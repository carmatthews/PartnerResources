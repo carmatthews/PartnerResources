{
  "cells": [
    {
      "cell_type": "markdown",
      "source": [
        "# Analyzing Categorical Data\n",
        "\n",
        "This unit covers methods for dealing with data that falls into categories. Learn how to use bar graphs, Venn diagrams, and two-way tables to see patterns and relationships in categorical data."
      ],
      "metadata": {
        "nteract": {
          "transient": {
            "deleting": false
          }
        }
      }
    },
    {
      "cell_type": "markdown",
      "source": [
        "## Analyzing one categorical variable"
      ],
      "metadata": {
        "nteract": {
          "transient": {
            "deleting": false
          }
        }
      }
    },
    {
      "cell_type": "markdown",
      "source": [
        "### Identifying individuals, variables and categorical variables in a data set"
      ],
      "metadata": {
        "nteract": {
          "transient": {
            "deleting": false
          }
        }
      }
    },
    {
      "cell_type": "markdown",
      "source": [
        "Millions of Americans rely on caffeine to get them up in the morning. Here's nutritional data on some popular drinks at Ben's Beans coffee shop:"
      ],
      "metadata": {
        "nteract": {
          "transient": {
            "deleting": false
          }
        }
      }
    },
    {
      "cell_type": "code",
      "source": [
        "import pandas as pd\n",
        "\n",
        "data = {'Drink':  ['Brewed Coffee', 'Caffe latte', 'Caffe mocha', 'Capuccino', 'Iced brewed coffee', 'Chai latte'],\n",
        "        'Type':  ['Hot', 'Hot', 'Hot', 'Hot', 'Cold', 'Hot'],\n",
        "        'Calories':  [4, 100, 170, 60, 60, 120],\n",
        "        'Sugars (g)':  [0, 14, 27, 8, 15, 25],\n",
        "        'Caffeine (mg)':  [260, 75, 95, 75, 120, 60]\n",
        "        }\n",
        "\n",
        "df = pd.DataFrame(data)\n",
        "\n",
        "df.style.hide_index()"
      ],
      "outputs": [
        {
          "output_type": "execute_result",
          "execution_count": 11,
          "data": {
            "text/html": "<style type=\"text/css\">\n</style>\n<table id=\"T_dfede_\">\n  <thead>\n    <tr>\n      <th class=\"col_heading level0 col0\" >Drink</th>\n      <th class=\"col_heading level0 col1\" >Type</th>\n      <th class=\"col_heading level0 col2\" >Calories</th>\n      <th class=\"col_heading level0 col3\" >Sugars (g)</th>\n      <th class=\"col_heading level0 col4\" >Caffeine (mg)</th>\n    </tr>\n  </thead>\n  <tbody>\n    <tr>\n      <td id=\"T_dfede_row0_col0\" class=\"data row0 col0\" >Brewed Coffee</td>\n      <td id=\"T_dfede_row0_col1\" class=\"data row0 col1\" >Hot</td>\n      <td id=\"T_dfede_row0_col2\" class=\"data row0 col2\" >4</td>\n      <td id=\"T_dfede_row0_col3\" class=\"data row0 col3\" >0</td>\n      <td id=\"T_dfede_row0_col4\" class=\"data row0 col4\" >260</td>\n    </tr>\n    <tr>\n      <td id=\"T_dfede_row1_col0\" class=\"data row1 col0\" >Caffe latte</td>\n      <td id=\"T_dfede_row1_col1\" class=\"data row1 col1\" >Hot</td>\n      <td id=\"T_dfede_row1_col2\" class=\"data row1 col2\" >100</td>\n      <td id=\"T_dfede_row1_col3\" class=\"data row1 col3\" >14</td>\n      <td id=\"T_dfede_row1_col4\" class=\"data row1 col4\" >75</td>\n    </tr>\n    <tr>\n      <td id=\"T_dfede_row2_col0\" class=\"data row2 col0\" >Caffe mocha</td>\n      <td id=\"T_dfede_row2_col1\" class=\"data row2 col1\" >Hot</td>\n      <td id=\"T_dfede_row2_col2\" class=\"data row2 col2\" >170</td>\n      <td id=\"T_dfede_row2_col3\" class=\"data row2 col3\" >27</td>\n      <td id=\"T_dfede_row2_col4\" class=\"data row2 col4\" >95</td>\n    </tr>\n    <tr>\n      <td id=\"T_dfede_row3_col0\" class=\"data row3 col0\" >Capuccino</td>\n      <td id=\"T_dfede_row3_col1\" class=\"data row3 col1\" >Hot</td>\n      <td id=\"T_dfede_row3_col2\" class=\"data row3 col2\" >60</td>\n      <td id=\"T_dfede_row3_col3\" class=\"data row3 col3\" >8</td>\n      <td id=\"T_dfede_row3_col4\" class=\"data row3 col4\" >75</td>\n    </tr>\n    <tr>\n      <td id=\"T_dfede_row4_col0\" class=\"data row4 col0\" >Iced brewed coffee</td>\n      <td id=\"T_dfede_row4_col1\" class=\"data row4 col1\" >Cold</td>\n      <td id=\"T_dfede_row4_col2\" class=\"data row4 col2\" >60</td>\n      <td id=\"T_dfede_row4_col3\" class=\"data row4 col3\" >15</td>\n      <td id=\"T_dfede_row4_col4\" class=\"data row4 col4\" >120</td>\n    </tr>\n    <tr>\n      <td id=\"T_dfede_row5_col0\" class=\"data row5 col0\" >Chai latte</td>\n      <td id=\"T_dfede_row5_col1\" class=\"data row5 col1\" >Hot</td>\n      <td id=\"T_dfede_row5_col2\" class=\"data row5 col2\" >120</td>\n      <td id=\"T_dfede_row5_col3\" class=\"data row5 col3\" >25</td>\n      <td id=\"T_dfede_row5_col4\" class=\"data row5 col4\" >60</td>\n    </tr>\n  </tbody>\n</table>\n",
            "text/plain": "<pandas.io.formats.style.Styler at 0x7f6b2fa290d0>"
          },
          "metadata": {}
        }
      ],
      "execution_count": 11,
      "metadata": {}
    },
    {
      "cell_type": "markdown",
      "source": [
        "The individuals in this data set are:\n",
        "\n",
        "Choose 1 answer:\n",
        "\n",
        "- **A** - Ben's Beans customers\n",
        "- **B** - Ben's Beans drinks\n",
        "- **C** - Caffeine contents"
      ],
      "metadata": {
        "nteract": {
          "transient": {
            "deleting": false
          }
        }
      }
    },
    {
      "cell_type": "markdown",
      "source": [
        "This data set contains:\n",
        "\n",
        "Choose 1 answer:\n",
        "\n",
        "- **A** - 4 variables, 1 of which is categorical\n",
        "\n",
        "- **B** - 4 variables, 2 of which are categorical\n",
        "\n",
        "- **C** - 6 variables, 1 of which is categorical\n",
        "\n",
        "- **D** - 6 variables, 2 of which are categorical"
      ],
      "metadata": {
        "nteract": {
          "transient": {
            "deleting": false
          }
        }
      }
    },
    {
      "cell_type": "markdown",
      "source": [
        "### Reading Pictographs\n",
        "\n",
        "Olivia counted the number of ladybugs on each plant in her garden, then made the graph below."
      ],
      "metadata": {
        "nteract": {
          "transient": {
            "deleting": false
          }
        }
      }
    },
    {
      "cell_type": "code",
      "source": [
        "def repeat_pattern(n):\n",
        "    return (n * '* ')[:-1]\n",
        "\n",
        "roses = 7\n",
        "lettuce = 3\n",
        "alfalfa = 5\n",
        "grapevines = 2\n",
        "\n",
        "print(\"* = 5 ladybugs\")\n",
        "print (\"\\t\\t| Number of ladybugs\")\n",
        "print(\"Roses \\t\\t|\", repeat_pattern(roses))\n",
        "print(\"Lettuce \\t|\", repeat_pattern(lettuce))\n",
        "print(\"Alfalfa \\t|\", repeat_pattern(alfalfa))\n",
        "print(\"Grape vines \\t|\", repeat_pattern(grapevines))\n",
        "\n"
      ],
      "outputs": [
        {
          "output_type": "stream",
          "name": "stdout",
          "text": "* = 5 ladybugs\n\t\t| Number of ladybugs\nRoses \t\t| * * * * * * *\nLettuce \t| * * *\nAlfalfa \t| * * * * *\nGrape vines \t| * *\n"
        }
      ],
      "execution_count": 12,
      "metadata": {
        "jupyter": {
          "outputs_hidden": false,
          "source_hidden": false
        },
        "nteract": {
          "transient": {
            "deleting": false
          }
        }
      }
    },
    {
      "cell_type": "markdown",
      "source": [
        "If 10 ladybugs fly from the lettuce to the alfalfa, which 2 kinds of plants will have the same number of ladybugs?\n",
        "\n",
        "Choose 2 answers:\n",
        "\n",
        "- **A** - Roses\n",
        "- **B** - lettuce\n",
        "- **C** - Alfalfa\n",
        "- **D** - Grape vines\n"
      ],
      "metadata": {
        "nteract": {
          "transient": {
            "deleting": false
          }
        }
      }
    },
    {
      "cell_type": "markdown",
      "source": [
        "### Create Bar Graphs\n",
        "\n",
        "The table below shows different types of apples in Pitt's Apple Orchard.\n"
      ],
      "metadata": {
        "nteract": {
          "transient": {
            "deleting": false
          }
        }
      }
    },
    {
      "cell_type": "code",
      "source": [
        "data = {'Apple Type':  ['Granny Smith', 'Gala', 'Fuji', 'Rome', 'Pink Lady'],\n",
        "        'Number of apples':  [48, 36, 60, 44, 72]\n",
        "        }\n",
        "\n",
        "df = pd.DataFrame(data)\n",
        "\n",
        "df.style.hide_index()"
      ],
      "outputs": [
        {
          "output_type": "execute_result",
          "execution_count": 13,
          "data": {
            "text/html": "<style type=\"text/css\">\n</style>\n<table id=\"T_8d93c_\">\n  <thead>\n    <tr>\n      <th class=\"col_heading level0 col0\" >Apple Type</th>\n      <th class=\"col_heading level0 col1\" >Number of apples</th>\n    </tr>\n  </thead>\n  <tbody>\n    <tr>\n      <td id=\"T_8d93c_row0_col0\" class=\"data row0 col0\" >Granny Smith</td>\n      <td id=\"T_8d93c_row0_col1\" class=\"data row0 col1\" >48</td>\n    </tr>\n    <tr>\n      <td id=\"T_8d93c_row1_col0\" class=\"data row1 col0\" >Gala</td>\n      <td id=\"T_8d93c_row1_col1\" class=\"data row1 col1\" >36</td>\n    </tr>\n    <tr>\n      <td id=\"T_8d93c_row2_col0\" class=\"data row2 col0\" >Fuji</td>\n      <td id=\"T_8d93c_row2_col1\" class=\"data row2 col1\" >60</td>\n    </tr>\n    <tr>\n      <td id=\"T_8d93c_row3_col0\" class=\"data row3 col0\" >Rome</td>\n      <td id=\"T_8d93c_row3_col1\" class=\"data row3 col1\" >44</td>\n    </tr>\n    <tr>\n      <td id=\"T_8d93c_row4_col0\" class=\"data row4 col0\" >Pink Lady</td>\n      <td id=\"T_8d93c_row4_col1\" class=\"data row4 col1\" >72</td>\n    </tr>\n  </tbody>\n</table>\n",
            "text/plain": "<pandas.io.formats.style.Styler at 0x7f6b2fa00640>"
          },
          "metadata": {}
        }
      ],
      "execution_count": 13,
      "metadata": {
        "jupyter": {
          "outputs_hidden": false,
          "source_hidden": false
        },
        "nteract": {
          "transient": {
            "deleting": false
          }
        }
      }
    },
    {
      "cell_type": "code",
      "source": [
        "x = 'Apple Type'\n",
        "y = 'Number of apples'\n",
        "\n",
        "df.plot.bar(x=x, y=y, rot=0)"
      ],
      "outputs": [
        {
          "output_type": "execute_result",
          "execution_count": 14,
          "data": {
            "text/plain": "<matplotlib.axes._subplots.AxesSubplot at 0x7f6b2fa7c310>"
          },
          "metadata": {}
        },
        {
          "output_type": "display_data",
          "data": {
            "image/png": "[encoded data removed]",
            "text/plain": "<Figure size 432x288 with 1 Axes>"
          },
          "metadata": {
            "needs_background": "light"
          }
        }
      ],
      "execution_count": 14,
      "metadata": {
        "jupyter": {
          "outputs_hidden": false,
          "source_hidden": false
        },
        "nteract": {
          "transient": {
            "deleting": false
          }
        }
      }
    },
    {
      "cell_type": "markdown",
      "source": [
        "### Read Bar Graphs (2-step problems)\n",
        "\n",
        "Alice graphed how many books in the school library are about her favorite subjects."
      ],
      "metadata": {}
    },
    {
      "cell_type": "code",
      "source": [
        "data = {'Type of book':  ['Dinosaur', 'Insect', 'Pirate', 'Superhero'],\n",
        "        'Number of books':  [25, 15, 30, 40]\n",
        "        }\n",
        "\n",
        "df = pd.DataFrame(data)\n",
        "\n",
        "df.style.hide_index()"
      ],
      "outputs": [
        {
          "output_type": "execute_result",
          "execution_count": 15,
          "data": {
            "text/html": "<style type=\"text/css\">\n</style>\n<table id=\"T_20f9e_\">\n  <thead>\n    <tr>\n      <th class=\"col_heading level0 col0\" >Type of book</th>\n      <th class=\"col_heading level0 col1\" >Number of books</th>\n    </tr>\n  </thead>\n  <tbody>\n    <tr>\n      <td id=\"T_20f9e_row0_col0\" class=\"data row0 col0\" >Dinosaur</td>\n      <td id=\"T_20f9e_row0_col1\" class=\"data row0 col1\" >25</td>\n    </tr>\n    <tr>\n      <td id=\"T_20f9e_row1_col0\" class=\"data row1 col0\" >Insect</td>\n      <td id=\"T_20f9e_row1_col1\" class=\"data row1 col1\" >15</td>\n    </tr>\n    <tr>\n      <td id=\"T_20f9e_row2_col0\" class=\"data row2 col0\" >Pirate</td>\n      <td id=\"T_20f9e_row2_col1\" class=\"data row2 col1\" >30</td>\n    </tr>\n    <tr>\n      <td id=\"T_20f9e_row3_col0\" class=\"data row3 col0\" >Superhero</td>\n      <td id=\"T_20f9e_row3_col1\" class=\"data row3 col1\" >40</td>\n    </tr>\n  </tbody>\n</table>\n",
            "text/plain": "<pandas.io.formats.style.Styler at 0x7f6b2fa001f0>"
          },
          "metadata": {}
        }
      ],
      "execution_count": 15,
      "metadata": {}
    },
    {
      "cell_type": "code",
      "source": [
        "x = 'Type of book'\n",
        "y = 'Number of books'\n",
        "\n",
        "df.plot.barh(x=x, y=y, rot=0)"
      ],
      "outputs": [
        {
          "output_type": "execute_result",
          "execution_count": 16,
          "data": {
            "text/plain": "<matplotlib.axes._subplots.AxesSubplot at 0x7f6b2fac74c0>"
          },
          "metadata": {}
        },
        {
          "output_type": "display_data",
          "data": {
            "image/png": "[encoded data removed]",
            "text/plain": "<Figure size 432x288 with 1 Axes>"
          },
          "metadata": {
            "needs_background": "light"
          }
        }
      ],
      "execution_count": 16,
      "metadata": {}
    },
    {
      "cell_type": "markdown",
      "source": [
        "Alice has read 10 of these books.\n",
        "\n",
        "How many books about Alice's favorite subjects that she has not read are in her school library?"
      ],
      "metadata": {}
    },
    {
      "cell_type": "markdown",
      "source": [
        "## Frequency Tables and Two-way tables"
      ],
      "metadata": {}
    },
    {
      "cell_type": "markdown",
      "source": [
        "#### Frequency Tables (one feature)\r\n",
        "\r\n",
        "Import simple iris data set:"
      ],
      "metadata": {
        "nteract": {
          "transient": {
            "deleting": false
          }
        }
      }
    },
    {
      "cell_type": "code",
      "source": [
        "import pandas as pd\r\n",
        "import numpy as np\r\n",
        "  \r\n",
        "# reading csv file as pandas dataframe\r\n",
        "data = pd.read_csv('data/iris-21.csv')\r\n",
        "data.head()"
      ],
      "outputs": [
        {
          "output_type": "execute_result",
          "execution_count": 19,
          "data": {
            "text/plain": "   sepal_length  sepal_width  petal_length  petal_width species\n0           5.1          3.5           1.4          0.2  setosa\n1           4.9          3.0           1.4          0.2  setosa\n2           4.7          3.2           1.3          0.2  setosa\n3           4.6          3.1           1.5          0.2  setosa\n4           5.0          3.6           1.4          0.2  setosa",
            "text/html": "<div>\n<style scoped>\n    .dataframe tbody tr th:only-of-type {\n        vertical-align: middle;\n    }\n\n    .dataframe tbody tr th {\n        vertical-align: top;\n    }\n\n    .dataframe thead th {\n        text-align: right;\n    }\n</style>\n<table border=\"1\" class=\"dataframe\">\n  <thead>\n    <tr style=\"text-align: right;\">\n      <th></th>\n      <th>sepal_length</th>\n      <th>sepal_width</th>\n      <th>petal_length</th>\n      <th>petal_width</th>\n      <th>species</th>\n    </tr>\n  </thead>\n  <tbody>\n    <tr>\n      <th>0</th>\n      <td>5.1</td>\n      <td>3.5</td>\n      <td>1.4</td>\n      <td>0.2</td>\n      <td>setosa</td>\n    </tr>\n    <tr>\n      <th>1</th>\n      <td>4.9</td>\n      <td>3.0</td>\n      <td>1.4</td>\n      <td>0.2</td>\n      <td>setosa</td>\n    </tr>\n    <tr>\n      <th>2</th>\n      <td>4.7</td>\n      <td>3.2</td>\n      <td>1.3</td>\n      <td>0.2</td>\n      <td>setosa</td>\n    </tr>\n    <tr>\n      <th>3</th>\n      <td>4.6</td>\n      <td>3.1</td>\n      <td>1.5</td>\n      <td>0.2</td>\n      <td>setosa</td>\n    </tr>\n    <tr>\n      <th>4</th>\n      <td>5.0</td>\n      <td>3.6</td>\n      <td>1.4</td>\n      <td>0.2</td>\n      <td>setosa</td>\n    </tr>\n  </tbody>\n</table>\n</div>"
          },
          "metadata": {}
        }
      ],
      "execution_count": 19,
      "metadata": {
        "jupyter": {
          "source_hidden": false,
          "outputs_hidden": false
        },
        "nteract": {
          "transient": {
            "deleting": false
          }
        }
      }
    },
    {
      "cell_type": "markdown",
      "source": [
        "Create a frequncy table using value_counts"
      ],
      "metadata": {
        "nteract": {
          "transient": {
            "deleting": false
          }
        }
      }
    },
    {
      "cell_type": "code",
      "source": [
        "df = data['species'].value_counts()\r\n",
        "df"
      ],
      "outputs": [
        {
          "output_type": "execute_result",
          "execution_count": 23,
          "data": {
            "text/plain": "setosa        50\nversicolor    50\nvirginica     50\nName: species, dtype: int64"
          },
          "metadata": {}
        }
      ],
      "execution_count": 23,
      "metadata": {
        "jupyter": {
          "source_hidden": false,
          "outputs_hidden": false
        },
        "nteract": {
          "transient": {
            "deleting": false
          }
        }
      }
    },
    {
      "cell_type": "markdown",
      "source": [
        "Create a frequency table using crosstab:"
      ],
      "metadata": {
        "nteract": {
          "transient": {
            "deleting": false
          }
        }
      }
    },
    {
      "cell_type": "code",
      "source": [
        "freq_table = pd.crosstab(data['species'], 'no_of_species')\r\n",
        "\r\n",
        "freq_table"
      ],
      "outputs": [
        {
          "output_type": "execute_result",
          "execution_count": 25,
          "data": {
            "text/plain": "col_0       no_of_species\nspecies                  \nsetosa                 50\nversicolor             50\nvirginica              50",
            "text/html": "<div>\n<style scoped>\n    .dataframe tbody tr th:only-of-type {\n        vertical-align: middle;\n    }\n\n    .dataframe tbody tr th {\n        vertical-align: top;\n    }\n\n    .dataframe thead th {\n        text-align: right;\n    }\n</style>\n<table border=\"1\" class=\"dataframe\">\n  <thead>\n    <tr style=\"text-align: right;\">\n      <th>col_0</th>\n      <th>no_of_species</th>\n    </tr>\n    <tr>\n      <th>species</th>\n      <th></th>\n    </tr>\n  </thead>\n  <tbody>\n    <tr>\n      <th>setosa</th>\n      <td>50</td>\n    </tr>\n    <tr>\n      <th>versicolor</th>\n      <td>50</td>\n    </tr>\n    <tr>\n      <th>virginica</th>\n      <td>50</td>\n    </tr>\n  </tbody>\n</table>\n</div>"
          },
          "metadata": {}
        }
      ],
      "execution_count": 25,
      "metadata": {
        "jupyter": {
          "source_hidden": false,
          "outputs_hidden": false
        },
        "nteract": {
          "transient": {
            "deleting": false
          }
        }
      }
    },
    {
      "cell_type": "markdown",
      "source": [
        "Create a relative frequency table using len:"
      ],
      "metadata": {
        "nteract": {
          "transient": {
            "deleting": false
          }
        }
      }
    },
    {
      "cell_type": "code",
      "source": [
        "freq_table_relative= freq_table/len(data)\r\n",
        "  \r\n",
        "freq_table_relative"
      ],
      "outputs": [
        {
          "output_type": "execute_result",
          "execution_count": 26,
          "data": {
            "text/plain": "col_0       no_of_species\nspecies                  \nsetosa           0.333333\nversicolor       0.333333\nvirginica        0.333333",
            "text/html": "<div>\n<style scoped>\n    .dataframe tbody tr th:only-of-type {\n        vertical-align: middle;\n    }\n\n    .dataframe tbody tr th {\n        vertical-align: top;\n    }\n\n    .dataframe thead th {\n        text-align: right;\n    }\n</style>\n<table border=\"1\" class=\"dataframe\">\n  <thead>\n    <tr style=\"text-align: right;\">\n      <th>col_0</th>\n      <th>no_of_species</th>\n    </tr>\n    <tr>\n      <th>species</th>\n      <th></th>\n    </tr>\n  </thead>\n  <tbody>\n    <tr>\n      <th>setosa</th>\n      <td>0.333333</td>\n    </tr>\n    <tr>\n      <th>versicolor</th>\n      <td>0.333333</td>\n    </tr>\n    <tr>\n      <th>virginica</th>\n      <td>0.333333</td>\n    </tr>\n  </tbody>\n</table>\n</div>"
          },
          "metadata": {}
        }
      ],
      "execution_count": 26,
      "metadata": {
        "jupyter": {
          "source_hidden": false,
          "outputs_hidden": false
        },
        "nteract": {
          "transient": {
            "deleting": false
          }
        }
      }
    },
    {
      "cell_type": "markdown",
      "source": [
        "#### Two-way Frequency Tables\r\n",
        "\r\n",
        "Import sample dataset:"
      ],
      "metadata": {
        "nteract": {
          "transient": {
            "deleting": false
          }
        }
      }
    },
    {
      "cell_type": "code",
      "source": [
        "import pandas as pd\r\n",
        "import numpy as np\r\n",
        "  \r\n",
        "# reading csv file \r\n",
        "data = pd.read_csv('data/SampleSuperstore.csv')\r\n",
        "\r\n",
        "data\r\n",
        "  \r\n"
      ],
      "outputs": [
        {
          "output_type": "execute_result",
          "execution_count": 28,
          "data": {
            "text/plain": "           Ship Mode    Segment        Country             City       State  \\\n0       Second Class   Consumer  United States        Henderson    Kentucky   \n1       Second Class   Consumer  United States        Henderson    Kentucky   \n2       Second Class  Corporate  United States      Los Angeles  California   \n3     Standard Class   Consumer  United States  Fort Lauderdale     Florida   \n4     Standard Class   Consumer  United States  Fort Lauderdale     Florida   \n...              ...        ...            ...              ...         ...   \n9989    Second Class   Consumer  United States            Miami     Florida   \n9990  Standard Class   Consumer  United States       Costa Mesa  California   \n9991  Standard Class   Consumer  United States       Costa Mesa  California   \n9992  Standard Class   Consumer  United States       Costa Mesa  California   \n9993    Second Class   Consumer  United States      Westminster  California   \n\n      Postal Code Region         Category Sub-Category     Sales  Quantity  \\\n0           42420  South        Furniture    Bookcases  261.9600         2   \n1           42420  South        Furniture       Chairs  731.9400         3   \n2           90036   West  Office Supplies       Labels   14.6200         2   \n3           33311  South        Furniture       Tables  957.5775         5   \n4           33311  South  Office Supplies      Storage   22.3680         2   \n...           ...    ...              ...          ...       ...       ...   \n9989        33180  South        Furniture  Furnishings   25.2480         3   \n9990        92627   West        Furniture  Furnishings   91.9600         2   \n9991        92627   West       Technology       Phones  258.5760         2   \n9992        92627   West  Office Supplies        Paper   29.6000         4   \n9993        92683   West  Office Supplies   Appliances  243.1600         2   \n\n      Discount    Profit  \n0         0.00   41.9136  \n1         0.00  219.5820  \n2         0.00    6.8714  \n3         0.45 -383.0310  \n4         0.20    2.5164  \n...        ...       ...  \n9989      0.20    4.1028  \n9990      0.00   15.6332  \n9991      0.20   19.3932  \n9992      0.00   13.3200  \n9993      0.00   72.9480  \n\n[9994 rows x 13 columns]",
            "text/html": "<div>\n<style scoped>\n    .dataframe tbody tr th:only-of-type {\n        vertical-align: middle;\n    }\n\n    .dataframe tbody tr th {\n        vertical-align: top;\n    }\n\n    .dataframe thead th {\n        text-align: right;\n    }\n</style>\n<table border=\"1\" class=\"dataframe\">\n  <thead>\n    <tr style=\"text-align: right;\">\n      <th></th>\n      <th>Ship Mode</th>\n      <th>Segment</th>\n      <th>Country</th>\n      <th>City</th>\n      <th>State</th>\n      <th>Postal Code</th>\n      <th>Region</th>\n      <th>Category</th>\n      <th>Sub-Category</th>\n      <th>Sales</th>\n      <th>Quantity</th>\n      <th>Discount</th>\n      <th>Profit</th>\n    </tr>\n  </thead>\n  <tbody>\n    <tr>\n      <th>0</th>\n      <td>Second Class</td>\n      <td>Consumer</td>\n      <td>United States</td>\n      <td>Henderson</td>\n      <td>Kentucky</td>\n      <td>42420</td>\n      <td>South</td>\n      <td>Furniture</td>\n      <td>Bookcases</td>\n      <td>261.9600</td>\n      <td>2</td>\n      <td>0.00</td>\n      <td>41.9136</td>\n    </tr>\n    <tr>\n      <th>1</th>\n      <td>Second Class</td>\n      <td>Consumer</td>\n      <td>United States</td>\n      <td>Henderson</td>\n      <td>Kentucky</td>\n      <td>42420</td>\n      <td>South</td>\n      <td>Furniture</td>\n      <td>Chairs</td>\n      <td>731.9400</td>\n      <td>3</td>\n      <td>0.00</td>\n      <td>219.5820</td>\n    </tr>\n    <tr>\n      <th>2</th>\n      <td>Second Class</td>\n      <td>Corporate</td>\n      <td>United States</td>\n      <td>Los Angeles</td>\n      <td>California</td>\n      <td>90036</td>\n      <td>West</td>\n      <td>Office Supplies</td>\n      <td>Labels</td>\n      <td>14.6200</td>\n      <td>2</td>\n      <td>0.00</td>\n      <td>6.8714</td>\n    </tr>\n    <tr>\n      <th>3</th>\n      <td>Standard Class</td>\n      <td>Consumer</td>\n      <td>United States</td>\n      <td>Fort Lauderdale</td>\n      <td>Florida</td>\n      <td>33311</td>\n      <td>South</td>\n      <td>Furniture</td>\n      <td>Tables</td>\n      <td>957.5775</td>\n      <td>5</td>\n      <td>0.45</td>\n      <td>-383.0310</td>\n    </tr>\n    <tr>\n      <th>4</th>\n      <td>Standard Class</td>\n      <td>Consumer</td>\n      <td>United States</td>\n      <td>Fort Lauderdale</td>\n      <td>Florida</td>\n      <td>33311</td>\n      <td>South</td>\n      <td>Office Supplies</td>\n      <td>Storage</td>\n      <td>22.3680</td>\n      <td>2</td>\n      <td>0.20</td>\n      <td>2.5164</td>\n    </tr>\n    <tr>\n      <th>...</th>\n      <td>...</td>\n      <td>...</td>\n      <td>...</td>\n      <td>...</td>\n      <td>...</td>\n      <td>...</td>\n      <td>...</td>\n      <td>...</td>\n      <td>...</td>\n      <td>...</td>\n      <td>...</td>\n      <td>...</td>\n      <td>...</td>\n    </tr>\n    <tr>\n      <th>9989</th>\n      <td>Second Class</td>\n      <td>Consumer</td>\n      <td>United States</td>\n      <td>Miami</td>\n      <td>Florida</td>\n      <td>33180</td>\n      <td>South</td>\n      <td>Furniture</td>\n      <td>Furnishings</td>\n      <td>25.2480</td>\n      <td>3</td>\n      <td>0.20</td>\n      <td>4.1028</td>\n    </tr>\n    <tr>\n      <th>9990</th>\n      <td>Standard Class</td>\n      <td>Consumer</td>\n      <td>United States</td>\n      <td>Costa Mesa</td>\n      <td>California</td>\n      <td>92627</td>\n      <td>West</td>\n      <td>Furniture</td>\n      <td>Furnishings</td>\n      <td>91.9600</td>\n      <td>2</td>\n      <td>0.00</td>\n      <td>15.6332</td>\n    </tr>\n    <tr>\n      <th>9991</th>\n      <td>Standard Class</td>\n      <td>Consumer</td>\n      <td>United States</td>\n      <td>Costa Mesa</td>\n      <td>California</td>\n      <td>92627</td>\n      <td>West</td>\n      <td>Technology</td>\n      <td>Phones</td>\n      <td>258.5760</td>\n      <td>2</td>\n      <td>0.20</td>\n      <td>19.3932</td>\n    </tr>\n    <tr>\n      <th>9992</th>\n      <td>Standard Class</td>\n      <td>Consumer</td>\n      <td>United States</td>\n      <td>Costa Mesa</td>\n      <td>California</td>\n      <td>92627</td>\n      <td>West</td>\n      <td>Office Supplies</td>\n      <td>Paper</td>\n      <td>29.6000</td>\n      <td>4</td>\n      <td>0.00</td>\n      <td>13.3200</td>\n    </tr>\n    <tr>\n      <th>9993</th>\n      <td>Second Class</td>\n      <td>Consumer</td>\n      <td>United States</td>\n      <td>Westminster</td>\n      <td>California</td>\n      <td>92683</td>\n      <td>West</td>\n      <td>Office Supplies</td>\n      <td>Appliances</td>\n      <td>243.1600</td>\n      <td>2</td>\n      <td>0.00</td>\n      <td>72.9480</td>\n    </tr>\n  </tbody>\n</table>\n<p>9994 rows × 13 columns</p>\n</div>"
          },
          "metadata": {}
        }
      ],
      "execution_count": 28,
      "metadata": {
        "jupyter": {
          "source_hidden": false,
          "outputs_hidden": false
        },
        "nteract": {
          "transient": {
            "deleting": false
          }
        }
      }
    },
    {
      "cell_type": "markdown",
      "source": [
        "Create two-way frequency table for the ship mode and customer segment columns"
      ],
      "metadata": {
        "nteract": {
          "transient": {
            "deleting": false
          }
        }
      }
    },
    {
      "cell_type": "code",
      "source": [
        "# two way frequency table for the ship mode column\r\n",
        "# and consumer column of the superstore dataset.\r\n",
        "freq_table = pd.crosstab(data['Ship Mode'], data['Segment'])\r\n",
        "  \r\n",
        "freq_table"
      ],
      "outputs": [
        {
          "output_type": "execute_result",
          "execution_count": 29,
          "data": {
            "text/plain": "Segment         Consumer  Corporate  Home Office\nShip Mode                                       \nFirst Class          769        485          284\nSame Day             317        114          112\nSecond Class        1020        609          316\nStandard Class      3085       1812         1071",
            "text/html": "<div>\n<style scoped>\n    .dataframe tbody tr th:only-of-type {\n        vertical-align: middle;\n    }\n\n    .dataframe tbody tr th {\n        vertical-align: top;\n    }\n\n    .dataframe thead th {\n        text-align: right;\n    }\n</style>\n<table border=\"1\" class=\"dataframe\">\n  <thead>\n    <tr style=\"text-align: right;\">\n      <th>Segment</th>\n      <th>Consumer</th>\n      <th>Corporate</th>\n      <th>Home Office</th>\n    </tr>\n    <tr>\n      <th>Ship Mode</th>\n      <th></th>\n      <th></th>\n      <th></th>\n    </tr>\n  </thead>\n  <tbody>\n    <tr>\n      <th>First Class</th>\n      <td>769</td>\n      <td>485</td>\n      <td>284</td>\n    </tr>\n    <tr>\n      <th>Same Day</th>\n      <td>317</td>\n      <td>114</td>\n      <td>112</td>\n    </tr>\n    <tr>\n      <th>Second Class</th>\n      <td>1020</td>\n      <td>609</td>\n      <td>316</td>\n    </tr>\n    <tr>\n      <th>Standard Class</th>\n      <td>3085</td>\n      <td>1812</td>\n      <td>1071</td>\n    </tr>\n  </tbody>\n</table>\n</div>"
          },
          "metadata": {}
        }
      ],
      "execution_count": 29,
      "metadata": {
        "jupyter": {
          "source_hidden": false,
          "outputs_hidden": false
        },
        "nteract": {
          "transient": {
            "deleting": false
          }
        }
      }
    },
    {
      "cell_type": "markdown",
      "source": [
        "Create relative two-way frequency table"
      ],
      "metadata": {
        "nteract": {
          "transient": {
            "deleting": false
          }
        }
      }
    },
    {
      "cell_type": "code",
      "source": [
        "freq_table_relative= freq_table/len(data)\r\n",
        "  \r\n",
        "freq_table_relative"
      ],
      "outputs": [
        {
          "output_type": "execute_result",
          "execution_count": 30,
          "data": {
            "text/plain": "Segment         Consumer  Corporate  Home Office\nShip Mode                                       \nFirst Class     0.076946   0.048529     0.028417\nSame Day        0.031719   0.011407     0.011207\nSecond Class    0.102061   0.060937     0.031619\nStandard Class  0.308685   0.181309     0.107164",
            "text/html": "<div>\n<style scoped>\n    .dataframe tbody tr th:only-of-type {\n        vertical-align: middle;\n    }\n\n    .dataframe tbody tr th {\n        vertical-align: top;\n    }\n\n    .dataframe thead th {\n        text-align: right;\n    }\n</style>\n<table border=\"1\" class=\"dataframe\">\n  <thead>\n    <tr style=\"text-align: right;\">\n      <th>Segment</th>\n      <th>Consumer</th>\n      <th>Corporate</th>\n      <th>Home Office</th>\n    </tr>\n    <tr>\n      <th>Ship Mode</th>\n      <th></th>\n      <th></th>\n      <th></th>\n    </tr>\n  </thead>\n  <tbody>\n    <tr>\n      <th>First Class</th>\n      <td>0.076946</td>\n      <td>0.048529</td>\n      <td>0.028417</td>\n    </tr>\n    <tr>\n      <th>Same Day</th>\n      <td>0.031719</td>\n      <td>0.011407</td>\n      <td>0.011207</td>\n    </tr>\n    <tr>\n      <th>Second Class</th>\n      <td>0.102061</td>\n      <td>0.060937</td>\n      <td>0.031619</td>\n    </tr>\n    <tr>\n      <th>Standard Class</th>\n      <td>0.308685</td>\n      <td>0.181309</td>\n      <td>0.107164</td>\n    </tr>\n  </tbody>\n</table>\n</div>"
          },
          "metadata": {}
        }
      ],
      "execution_count": 30,
      "metadata": {
        "jupyter": {
          "source_hidden": false,
          "outputs_hidden": false
        },
        "nteract": {
          "transient": {
            "deleting": false
          }
        }
      }
    },
    {
      "cell_type": "markdown",
      "source": [
        "#### Marginal and Conditional Distributions in Two-way Tables"
      ],
      "metadata": {
        "nteract": {
          "transient": {
            "deleting": false
          }
        }
      }
    }
  ],
  "metadata": {
    "kernel_info": {
      "name": "python38-azureml"
    },
    "kernelspec": {
      "name": "python38-azureml",
      "language": "python",
      "display_name": "Python 3.8 - AzureML"
    },
    "language_info": {
      "name": "python",
      "version": "3.8.1",
      "mimetype": "text/x-python",
      "codemirror_mode": {
        "name": "ipython",
        "version": 3
      },
      "pygments_lexer": "ipython3",
      "nbconvert_exporter": "python",
      "file_extension": ".py"
    },
    "nteract": {
      "version": "nteract-front-end@1.0.0"
    }
  },
  "nbformat": 4,
  "nbformat_minor": 0
}