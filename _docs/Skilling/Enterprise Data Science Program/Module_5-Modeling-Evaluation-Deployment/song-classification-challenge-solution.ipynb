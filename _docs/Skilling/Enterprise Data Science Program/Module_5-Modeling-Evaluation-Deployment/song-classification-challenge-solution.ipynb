{
  "cells": [
    {
      "cell_type": "markdown",
      "source": [
        "## 1. Preparing our dataset\n",
        "<p><strong>Automatic Song Classification using Machine Learning</strong></p>\n",
        "<p>Streaming services have looked into means of categorizing music to allow for personalized recommendations. One method involves direct analysis of the raw audio information in a given song, scoring the raw data on a variety of metrics. Today, we'll be examining data compiled by a research group known as The Echo Nest. Our goal is to look through this dataset and classify songs as being either 'Hip-Hop' or 'Rock' - all without listening to a single one ourselves. In doing so, we will learn how to clean our data, do some exploratory data visualization, and use feature reduction towards the goal of feeding our data through some simple machine learning algorithms, such as decision trees and logistic regression.</p>\n",
        "<p>To begin with, let's load the metadata about our tracks alongside the track metrics compiled by The Echo Nest, a music intelligence and data platform for developers and media companies. A song is about more than its title, artist, and number of listens. We have another dataset that has musical features of each track such as <code>danceability</code> and <code>acousticness</code> on a scale from -1 to 1. These exist in two different files, which are in different formats - CSV and JSON. While CSV is a popular file format for denoting tabular data, JSON is another common file format in which databases often return the results of a given query.</p>\n",
        "<p>Let's start by creating two pandas <code>DataFrames</code> out of these files that we can merge so we have features and labels (often also referred to as <code>X</code> and <code>y</code>) for the classification later on.</p>"
      ],
      "metadata": {
        "dc": {
          "key": "3"
        },
        "deletable": false,
        "editable": false,
        "run_control": {
          "frozen": true
        },
        "tags": [
          "context"
        ]
      }
    },
    {
      "cell_type": "code",
      "source": [
        "import pandas as pd\n",
        "\n",
        "# Read in track metadata with genre labels\n",
        "tracks = pd.read_csv('datasets/fma-rock-vs-hiphop.csv')\n",
        "\n",
        "# Read in track metrics with the features\n",
        "echonest_metrics = pd.read_json('datasets/echonest-metrics.json', precise_float=True)\n",
        "\n",
        "# Merge the relevant columns of tracks and echonest_metrics\n",
        "echo_tracks = pd.merge(echonest_metrics, tracks[['track_id','genre_top']], how='inner', on='track_id')\n",
        "\n",
        "# Inspect the resultant dataframe\n",
        "echo_tracks.info()"
      ],
      "outputs": [
        {
          "output_type": "stream",
          "name": "stdout",
          "text": "<class 'pandas.core.frame.DataFrame'>\nInt64Index: 4802 entries, 0 to 4801\nData columns (total 10 columns):\ntrack_id            4802 non-null int64\nacousticness        4802 non-null float64\ndanceability        4802 non-null float64\nenergy              4802 non-null float64\ninstrumentalness    4802 non-null float64\nliveness            4802 non-null float64\nspeechiness         4802 non-null float64\ntempo               4802 non-null float64\nvalence             4802 non-null float64\ngenre_top           4802 non-null object\ndtypes: float64(8), int64(1), object(1)\nmemory usage: 412.7+ KB\n"
        }
      ],
      "execution_count": 1,
      "metadata": {
        "dc": {
          "key": "3"
        },
        "tags": [
          "sample_code"
        ],
        "gather": {
          "logged": 1643292446097
        }
      }
    },
    {
      "cell_type": "markdown",
      "source": [
        "## 2. Pairwise relationships between continuous variables\n",
        "<p>We typically want to avoid using variables that have strong correlations with each other -- hence avoiding feature redundancy -- for a few reasons:</p>\n",
        "<ul>\n",
        "<li>To keep the model simple and improve interpretability (with many features, we run the risk of overfitting).</li>\n",
        "<li>When our datasets are very large, using fewer features can drastically speed up our computation time.</li>\n",
        "</ul>\n",
        "<p>To get a sense of whether there are any strongly correlated features in our data, we will use built-in functions in the <code>pandas</code> package.</p>"
      ],
      "metadata": {
        "dc": {
          "key": "10"
        },
        "deletable": false,
        "editable": false,
        "run_control": {
          "frozen": true
        },
        "tags": [
          "context"
        ]
      }
    },
    {
      "cell_type": "code",
      "source": [
        "# Create a correlation matrix\n",
        "corr_metrics = echo_tracks.corr()\n",
        "corr_metrics.style.background_gradient()"
      ],
      "outputs": [
        {
          "output_type": "execute_result",
          "execution_count": 2,
          "data": {
            "text/plain": "<pandas.io.formats.style.Styler at 0x7f3e16b72668>",
            "text/html": "<style  type=\"text/css\" >\n    #T_7643e0e6_7f7a_11ec_881c_b7825dc79233row0_col0 {\n            background-color:  #023858;\n            color:  #f1f1f1;\n        }    #T_7643e0e6_7f7a_11ec_881c_b7825dc79233row0_col1 {\n            background-color:  #fff7fb;\n            color:  #000000;\n        }    #T_7643e0e6_7f7a_11ec_881c_b7825dc79233row0_col2 {\n            background-color:  #d2d2e7;\n            color:  #000000;\n        }    #T_7643e0e6_7f7a_11ec_881c_b7825dc79233row0_col3 {\n            background-color:  #b5c4df;\n            color:  #000000;\n        }    #T_7643e0e6_7f7a_11ec_881c_b7825dc79233row0_col4 {\n            background-color:  #f5eef6;\n            color:  #000000;\n        }    #T_7643e0e6_7f7a_11ec_881c_b7825dc79233row0_col5 {\n            background-color:  #e9e5f1;\n            color:  #000000;\n        }    #T_7643e0e6_7f7a_11ec_881c_b7825dc79233row0_col6 {\n            background-color:  #d1d2e6;\n            color:  #000000;\n        }    #T_7643e0e6_7f7a_11ec_881c_b7825dc79233row0_col7 {\n            background-color:  #e1dfed;\n            color:  #000000;\n        }    #T_7643e0e6_7f7a_11ec_881c_b7825dc79233row0_col8 {\n            background-color:  #dedcec;\n            color:  #000000;\n        }    #T_7643e0e6_7f7a_11ec_881c_b7825dc79233row1_col0 {\n            background-color:  #fff7fb;\n            color:  #000000;\n        }    #T_7643e0e6_7f7a_11ec_881c_b7825dc79233row1_col1 {\n            background-color:  #023858;\n            color:  #f1f1f1;\n        }    #T_7643e0e6_7f7a_11ec_881c_b7825dc79233row1_col2 {\n            background-color:  #e0dded;\n            color:  #000000;\n        }    #T_7643e0e6_7f7a_11ec_881c_b7825dc79233row1_col3 {\n            background-color:  #fff7fb;\n            color:  #000000;\n        }    #T_7643e0e6_7f7a_11ec_881c_b7825dc79233row1_col4 {\n            background-color:  #97b7d7;\n            color:  #000000;\n        }    #T_7643e0e6_7f7a_11ec_881c_b7825dc79233row1_col5 {\n            background-color:  #f3edf5;\n            color:  #000000;\n        }    #T_7643e0e6_7f7a_11ec_881c_b7825dc79233row1_col6 {\n            background-color:  #b8c6e0;\n            color:  #000000;\n        }    #T_7643e0e6_7f7a_11ec_881c_b7825dc79233row1_col7 {\n            background-color:  #e1dfed;\n            color:  #000000;\n        }    #T_7643e0e6_7f7a_11ec_881c_b7825dc79233row1_col8 {\n            background-color:  #e2dfee;\n            color:  #000000;\n        }    #T_7643e0e6_7f7a_11ec_881c_b7825dc79233row2_col0 {\n            background-color:  #bdc8e1;\n            color:  #000000;\n        }    #T_7643e0e6_7f7a_11ec_881c_b7825dc79233row2_col1 {\n            background-color:  #d0d1e6;\n            color:  #000000;\n        }    #T_7643e0e6_7f7a_11ec_881c_b7825dc79233row2_col2 {\n            background-color:  #023858;\n            color:  #f1f1f1;\n        }    #T_7643e0e6_7f7a_11ec_881c_b7825dc79233row2_col3 {\n            background-color:  #fbf3f9;\n            color:  #000000;\n        }    #T_7643e0e6_7f7a_11ec_881c_b7825dc79233row2_col4 {\n            background-color:  #f3edf5;\n            color:  #000000;\n        }    #T_7643e0e6_7f7a_11ec_881c_b7825dc79233row2_col5 {\n            background-color:  #fff7fb;\n            color:  #000000;\n        }    #T_7643e0e6_7f7a_11ec_881c_b7825dc79233row2_col6 {\n            background-color:  #80aed2;\n            color:  #000000;\n        }    #T_7643e0e6_7f7a_11ec_881c_b7825dc79233row2_col7 {\n            background-color:  #fff7fb;\n            color:  #000000;\n        }    #T_7643e0e6_7f7a_11ec_881c_b7825dc79233row2_col8 {\n            background-color:  #529bc7;\n            color:  #000000;\n        }    #T_7643e0e6_7f7a_11ec_881c_b7825dc79233row3_col0 {\n            background-color:  #a7bddb;\n            color:  #000000;\n        }    #T_7643e0e6_7f7a_11ec_881c_b7825dc79233row3_col1 {\n            background-color:  #f5eff6;\n            color:  #000000;\n        }    #T_7643e0e6_7f7a_11ec_881c_b7825dc79233row3_col2 {\n            background-color:  #fef6fa;\n            color:  #000000;\n        }    #T_7643e0e6_7f7a_11ec_881c_b7825dc79233row3_col3 {\n            background-color:  #023858;\n            color:  #f1f1f1;\n        }    #T_7643e0e6_7f7a_11ec_881c_b7825dc79233row3_col4 {\n            background-color:  #c4cbe3;\n            color:  #000000;\n        }    #T_7643e0e6_7f7a_11ec_881c_b7825dc79233row3_col5 {\n            background-color:  #dcdaeb;\n            color:  #000000;\n        }    #T_7643e0e6_7f7a_11ec_881c_b7825dc79233row3_col6 {\n            background-color:  #dedcec;\n            color:  #000000;\n        }    #T_7643e0e6_7f7a_11ec_881c_b7825dc79233row3_col7 {\n            background-color:  #adc1dd;\n            color:  #000000;\n        }    #T_7643e0e6_7f7a_11ec_881c_b7825dc79233row3_col8 {\n            background-color:  #d9d8ea;\n            color:  #000000;\n        }    #T_7643e0e6_7f7a_11ec_881c_b7825dc79233row4_col0 {\n            background-color:  #f4eef6;\n            color:  #000000;\n        }    #T_7643e0e6_7f7a_11ec_881c_b7825dc79233row4_col1 {\n            background-color:  #97b7d7;\n            color:  #000000;\n        }    #T_7643e0e6_7f7a_11ec_881c_b7825dc79233row4_col2 {\n            background-color:  #fff7fb;\n            color:  #000000;\n        }    #T_7643e0e6_7f7a_11ec_881c_b7825dc79233row4_col3 {\n            background-color:  #d2d3e7;\n            color:  #000000;\n        }    #T_7643e0e6_7f7a_11ec_881c_b7825dc79233row4_col4 {\n            background-color:  #023858;\n            color:  #f1f1f1;\n        }    #T_7643e0e6_7f7a_11ec_881c_b7825dc79233row4_col5 {\n            background-color:  #fdf5fa;\n            color:  #000000;\n        }    #T_7643e0e6_7f7a_11ec_881c_b7825dc79233row4_col6 {\n            background-color:  #fff7fb;\n            color:  #000000;\n        }    #T_7643e0e6_7f7a_11ec_881c_b7825dc79233row4_col7 {\n            background-color:  #d9d8ea;\n            color:  #000000;\n        }    #T_7643e0e6_7f7a_11ec_881c_b7825dc79233row4_col8 {\n            background-color:  #fff7fb;\n            color:  #000000;\n        }    #T_7643e0e6_7f7a_11ec_881c_b7825dc79233row5_col0 {\n            background-color:  #bdc8e1;\n            color:  #000000;\n        }    #T_7643e0e6_7f7a_11ec_881c_b7825dc79233row5_col1 {\n            background-color:  #ced0e6;\n            color:  #000000;\n        }    #T_7643e0e6_7f7a_11ec_881c_b7825dc79233row5_col2 {\n            background-color:  #ede8f3;\n            color:  #000000;\n        }    #T_7643e0e6_7f7a_11ec_881c_b7825dc79233row5_col3 {\n            background-color:  #bdc8e1;\n            color:  #000000;\n        }    #T_7643e0e6_7f7a_11ec_881c_b7825dc79233row5_col4 {\n            background-color:  #dbdaeb;\n            color:  #000000;\n        }    #T_7643e0e6_7f7a_11ec_881c_b7825dc79233row5_col5 {\n            background-color:  #023858;\n            color:  #f1f1f1;\n        }    #T_7643e0e6_7f7a_11ec_881c_b7825dc79233row5_col6 {\n            background-color:  #c0c9e2;\n            color:  #000000;\n        }    #T_7643e0e6_7f7a_11ec_881c_b7825dc79233row5_col7 {\n            background-color:  #dcdaeb;\n            color:  #000000;\n        }    #T_7643e0e6_7f7a_11ec_881c_b7825dc79233row5_col8 {\n            background-color:  #e8e4f0;\n            color:  #000000;\n        }    #T_7643e0e6_7f7a_11ec_881c_b7825dc79233row6_col0 {\n            background-color:  #d0d1e6;\n            color:  #000000;\n        }    #T_7643e0e6_7f7a_11ec_881c_b7825dc79233row6_col1 {\n            background-color:  #b8c6e0;\n            color:  #000000;\n        }    #T_7643e0e6_7f7a_11ec_881c_b7825dc79233row6_col2 {\n            background-color:  #93b5d6;\n            color:  #000000;\n        }    #T_7643e0e6_7f7a_11ec_881c_b7825dc79233row6_col3 {\n            background-color:  #eae6f1;\n            color:  #000000;\n        }    #T_7643e0e6_7f7a_11ec_881c_b7825dc79233row6_col4 {\n            background-color:  #fff7fb;\n            color:  #000000;\n        }    #T_7643e0e6_7f7a_11ec_881c_b7825dc79233row6_col5 {\n            background-color:  #eae6f1;\n            color:  #000000;\n        }    #T_7643e0e6_7f7a_11ec_881c_b7825dc79233row6_col6 {\n            background-color:  #023858;\n            color:  #f1f1f1;\n        }    #T_7643e0e6_7f7a_11ec_881c_b7825dc79233row6_col7 {\n            background-color:  #dbdaeb;\n            color:  #000000;\n        }    #T_7643e0e6_7f7a_11ec_881c_b7825dc79233row6_col8 {\n            background-color:  #bfc9e1;\n            color:  #000000;\n        }    #T_7643e0e6_7f7a_11ec_881c_b7825dc79233row7_col0 {\n            background-color:  #d0d1e6;\n            color:  #000000;\n        }    #T_7643e0e6_7f7a_11ec_881c_b7825dc79233row7_col1 {\n            background-color:  #d0d1e6;\n            color:  #000000;\n        }    #T_7643e0e6_7f7a_11ec_881c_b7825dc79233row7_col2 {\n            background-color:  #fef6fa;\n            color:  #000000;\n        }    #T_7643e0e6_7f7a_11ec_881c_b7825dc79233row7_col3 {\n            background-color:  #a7bddb;\n            color:  #000000;\n        }    #T_7643e0e6_7f7a_11ec_881c_b7825dc79233row7_col4 {\n            background-color:  #c5cce3;\n            color:  #000000;\n        }    #T_7643e0e6_7f7a_11ec_881c_b7825dc79233row7_col5 {\n            background-color:  #f0eaf4;\n            color:  #000000;\n        }    #T_7643e0e6_7f7a_11ec_881c_b7825dc79233row7_col6 {\n            background-color:  #c8cde4;\n            color:  #000000;\n        }    #T_7643e0e6_7f7a_11ec_881c_b7825dc79233row7_col7 {\n            background-color:  #023858;\n            color:  #f1f1f1;\n        }    #T_7643e0e6_7f7a_11ec_881c_b7825dc79233row7_col8 {\n            background-color:  #d6d6e9;\n            color:  #000000;\n        }    #T_7643e0e6_7f7a_11ec_881c_b7825dc79233row8_col0 {\n            background-color:  #c6cce3;\n            color:  #000000;\n        }    #T_7643e0e6_7f7a_11ec_881c_b7825dc79233row8_col1 {\n            background-color:  #cdd0e5;\n            color:  #000000;\n        }    #T_7643e0e6_7f7a_11ec_881c_b7825dc79233row8_col2 {\n            background-color:  #4c99c5;\n            color:  #000000;\n        }    #T_7643e0e6_7f7a_11ec_881c_b7825dc79233row8_col3 {\n            background-color:  #d1d2e6;\n            color:  #000000;\n        }    #T_7643e0e6_7f7a_11ec_881c_b7825dc79233row8_col4 {\n            background-color:  #efe9f3;\n            color:  #000000;\n        }    #T_7643e0e6_7f7a_11ec_881c_b7825dc79233row8_col5 {\n            background-color:  #f7f0f7;\n            color:  #000000;\n        }    #T_7643e0e6_7f7a_11ec_881c_b7825dc79233row8_col6 {\n            background-color:  #a5bddb;\n            color:  #000000;\n        }    #T_7643e0e6_7f7a_11ec_881c_b7825dc79233row8_col7 {\n            background-color:  #d3d4e7;\n            color:  #000000;\n        }    #T_7643e0e6_7f7a_11ec_881c_b7825dc79233row8_col8 {\n            background-color:  #023858;\n            color:  #f1f1f1;\n        }</style><table id=\"T_7643e0e6_7f7a_11ec_881c_b7825dc79233\" ><thead>    <tr>        <th class=\"blank level0\" ></th>        <th class=\"col_heading level0 col0\" >track_id</th>        <th class=\"col_heading level0 col1\" >acousticness</th>        <th class=\"col_heading level0 col2\" >danceability</th>        <th class=\"col_heading level0 col3\" >energy</th>        <th class=\"col_heading level0 col4\" >instrumentalness</th>        <th class=\"col_heading level0 col5\" >liveness</th>        <th class=\"col_heading level0 col6\" >speechiness</th>        <th class=\"col_heading level0 col7\" >tempo</th>        <th class=\"col_heading level0 col8\" >valence</th>    </tr></thead><tbody>\n                <tr>\n                        <th id=\"T_7643e0e6_7f7a_11ec_881c_b7825dc79233level0_row0\" class=\"row_heading level0 row0\" >track_id</th>\n                        <td id=\"T_7643e0e6_7f7a_11ec_881c_b7825dc79233row0_col0\" class=\"data row0 col0\" >1</td>\n                        <td id=\"T_7643e0e6_7f7a_11ec_881c_b7825dc79233row0_col1\" class=\"data row0 col1\" >-0.372282</td>\n                        <td id=\"T_7643e0e6_7f7a_11ec_881c_b7825dc79233row0_col2\" class=\"data row0 col2\" >0.0494541</td>\n                        <td id=\"T_7643e0e6_7f7a_11ec_881c_b7825dc79233row0_col3\" class=\"data row0 col3\" >0.140703</td>\n                        <td id=\"T_7643e0e6_7f7a_11ec_881c_b7825dc79233row0_col4\" class=\"data row0 col4\" >-0.275623</td>\n                        <td id=\"T_7643e0e6_7f7a_11ec_881c_b7825dc79233row0_col5\" class=\"data row0 col5\" >0.0482307</td>\n                        <td id=\"T_7643e0e6_7f7a_11ec_881c_b7825dc79233row0_col6\" class=\"data row0 col6\" >-0.0269951</td>\n                        <td id=\"T_7643e0e6_7f7a_11ec_881c_b7825dc79233row0_col7\" class=\"data row0 col7\" >-0.0253918</td>\n                        <td id=\"T_7643e0e6_7f7a_11ec_881c_b7825dc79233row0_col8\" class=\"data row0 col8\" >0.0100698</td>\n            </tr>\n            <tr>\n                        <th id=\"T_7643e0e6_7f7a_11ec_881c_b7825dc79233level0_row1\" class=\"row_heading level0 row1\" >acousticness</th>\n                        <td id=\"T_7643e0e6_7f7a_11ec_881c_b7825dc79233row1_col0\" class=\"data row1 col0\" >-0.372282</td>\n                        <td id=\"T_7643e0e6_7f7a_11ec_881c_b7825dc79233row1_col1\" class=\"data row1 col1\" >1</td>\n                        <td id=\"T_7643e0e6_7f7a_11ec_881c_b7825dc79233row1_col2\" class=\"data row1 col2\" >-0.0289537</td>\n                        <td id=\"T_7643e0e6_7f7a_11ec_881c_b7825dc79233row1_col3\" class=\"data row1 col3\" >-0.281619</td>\n                        <td id=\"T_7643e0e6_7f7a_11ec_881c_b7825dc79233row1_col4\" class=\"data row1 col4\" >0.19478</td>\n                        <td id=\"T_7643e0e6_7f7a_11ec_881c_b7825dc79233row1_col5\" class=\"data row1 col5\" >-0.0199914</td>\n                        <td id=\"T_7643e0e6_7f7a_11ec_881c_b7825dc79233row1_col6\" class=\"data row1 col6\" >0.072204</td>\n                        <td id=\"T_7643e0e6_7f7a_11ec_881c_b7825dc79233row1_col7\" class=\"data row1 col7\" >-0.0263097</td>\n                        <td id=\"T_7643e0e6_7f7a_11ec_881c_b7825dc79233row1_col8\" class=\"data row1 col8\" >-0.0138406</td>\n            </tr>\n            <tr>\n                        <th id=\"T_7643e0e6_7f7a_11ec_881c_b7825dc79233level0_row2\" class=\"row_heading level0 row2\" >danceability</th>\n                        <td id=\"T_7643e0e6_7f7a_11ec_881c_b7825dc79233row2_col0\" class=\"data row2 col0\" >0.0494541</td>\n                        <td id=\"T_7643e0e6_7f7a_11ec_881c_b7825dc79233row2_col1\" class=\"data row2 col1\" >-0.0289537</td>\n                        <td id=\"T_7643e0e6_7f7a_11ec_881c_b7825dc79233row2_col2\" class=\"data row2 col2\" >1</td>\n                        <td id=\"T_7643e0e6_7f7a_11ec_881c_b7825dc79233row2_col3\" class=\"data row2 col3\" >-0.242032</td>\n                        <td id=\"T_7643e0e6_7f7a_11ec_881c_b7825dc79233row2_col4\" class=\"data row2 col4\" >-0.255217</td>\n                        <td id=\"T_7643e0e6_7f7a_11ec_881c_b7825dc79233row2_col5\" class=\"data row2 col5\" >-0.106584</td>\n                        <td id=\"T_7643e0e6_7f7a_11ec_881c_b7825dc79233row2_col6\" class=\"data row2 col6\" >0.276206</td>\n                        <td id=\"T_7643e0e6_7f7a_11ec_881c_b7825dc79233row2_col7\" class=\"data row2 col7\" >-0.242089</td>\n                        <td id=\"T_7643e0e6_7f7a_11ec_881c_b7825dc79233row2_col8\" class=\"data row2 col8\" >0.473165</td>\n            </tr>\n            <tr>\n                        <th id=\"T_7643e0e6_7f7a_11ec_881c_b7825dc79233level0_row3\" class=\"row_heading level0 row3\" >energy</th>\n                        <td id=\"T_7643e0e6_7f7a_11ec_881c_b7825dc79233row3_col0\" class=\"data row3 col0\" >0.140703</td>\n                        <td id=\"T_7643e0e6_7f7a_11ec_881c_b7825dc79233row3_col1\" class=\"data row3 col1\" >-0.281619</td>\n                        <td id=\"T_7643e0e6_7f7a_11ec_881c_b7825dc79233row3_col2\" class=\"data row3 col2\" >-0.242032</td>\n                        <td id=\"T_7643e0e6_7f7a_11ec_881c_b7825dc79233row3_col3\" class=\"data row3 col3\" >1</td>\n                        <td id=\"T_7643e0e6_7f7a_11ec_881c_b7825dc79233row3_col4\" class=\"data row3 col4\" >0.0282377</td>\n                        <td id=\"T_7643e0e6_7f7a_11ec_881c_b7825dc79233row3_col5\" class=\"data row3 col5\" >0.113331</td>\n                        <td id=\"T_7643e0e6_7f7a_11ec_881c_b7825dc79233row3_col6\" class=\"data row3 col6\" >-0.109983</td>\n                        <td id=\"T_7643e0e6_7f7a_11ec_881c_b7825dc79233row3_col7\" class=\"data row3 col7\" >0.195227</td>\n                        <td id=\"T_7643e0e6_7f7a_11ec_881c_b7825dc79233row3_col8\" class=\"data row3 col8\" >0.0386027</td>\n            </tr>\n            <tr>\n                        <th id=\"T_7643e0e6_7f7a_11ec_881c_b7825dc79233level0_row4\" class=\"row_heading level0 row4\" >instrumentalness</th>\n                        <td id=\"T_7643e0e6_7f7a_11ec_881c_b7825dc79233row4_col0\" class=\"data row4 col0\" >-0.275623</td>\n                        <td id=\"T_7643e0e6_7f7a_11ec_881c_b7825dc79233row4_col1\" class=\"data row4 col1\" >0.19478</td>\n                        <td id=\"T_7643e0e6_7f7a_11ec_881c_b7825dc79233row4_col2\" class=\"data row4 col2\" >-0.255217</td>\n                        <td id=\"T_7643e0e6_7f7a_11ec_881c_b7825dc79233row4_col3\" class=\"data row4 col3\" >0.0282377</td>\n                        <td id=\"T_7643e0e6_7f7a_11ec_881c_b7825dc79233row4_col4\" class=\"data row4 col4\" >1</td>\n                        <td id=\"T_7643e0e6_7f7a_11ec_881c_b7825dc79233row4_col5\" class=\"data row4 col5\" >-0.0910218</td>\n                        <td id=\"T_7643e0e6_7f7a_11ec_881c_b7825dc79233row4_col6\" class=\"data row4 col6\" >-0.366762</td>\n                        <td id=\"T_7643e0e6_7f7a_11ec_881c_b7825dc79233row4_col7\" class=\"data row4 col7\" >0.022215</td>\n                        <td id=\"T_7643e0e6_7f7a_11ec_881c_b7825dc79233row4_col8\" class=\"data row4 col8\" >-0.219967</td>\n            </tr>\n            <tr>\n                        <th id=\"T_7643e0e6_7f7a_11ec_881c_b7825dc79233level0_row5\" class=\"row_heading level0 row5\" >liveness</th>\n                        <td id=\"T_7643e0e6_7f7a_11ec_881c_b7825dc79233row5_col0\" class=\"data row5 col0\" >0.0482307</td>\n                        <td id=\"T_7643e0e6_7f7a_11ec_881c_b7825dc79233row5_col1\" class=\"data row5 col1\" >-0.0199914</td>\n                        <td id=\"T_7643e0e6_7f7a_11ec_881c_b7825dc79233row5_col2\" class=\"data row5 col2\" >-0.106584</td>\n                        <td id=\"T_7643e0e6_7f7a_11ec_881c_b7825dc79233row5_col3\" class=\"data row5 col3\" >0.113331</td>\n                        <td id=\"T_7643e0e6_7f7a_11ec_881c_b7825dc79233row5_col4\" class=\"data row5 col4\" >-0.0910218</td>\n                        <td id=\"T_7643e0e6_7f7a_11ec_881c_b7825dc79233row5_col5\" class=\"data row5 col5\" >1</td>\n                        <td id=\"T_7643e0e6_7f7a_11ec_881c_b7825dc79233row5_col6\" class=\"data row5 col6\" >0.0411725</td>\n                        <td id=\"T_7643e0e6_7f7a_11ec_881c_b7825dc79233row5_col7\" class=\"data row5 col7\" >0.00273169</td>\n                        <td id=\"T_7643e0e6_7f7a_11ec_881c_b7825dc79233row5_col8\" class=\"data row5 col8\" >-0.0450931</td>\n            </tr>\n            <tr>\n                        <th id=\"T_7643e0e6_7f7a_11ec_881c_b7825dc79233level0_row6\" class=\"row_heading level0 row6\" >speechiness</th>\n                        <td id=\"T_7643e0e6_7f7a_11ec_881c_b7825dc79233row6_col0\" class=\"data row6 col0\" >-0.0269951</td>\n                        <td id=\"T_7643e0e6_7f7a_11ec_881c_b7825dc79233row6_col1\" class=\"data row6 col1\" >0.072204</td>\n                        <td id=\"T_7643e0e6_7f7a_11ec_881c_b7825dc79233row6_col2\" class=\"data row6 col2\" >0.276206</td>\n                        <td id=\"T_7643e0e6_7f7a_11ec_881c_b7825dc79233row6_col3\" class=\"data row6 col3\" >-0.109983</td>\n                        <td id=\"T_7643e0e6_7f7a_11ec_881c_b7825dc79233row6_col4\" class=\"data row6 col4\" >-0.366762</td>\n                        <td id=\"T_7643e0e6_7f7a_11ec_881c_b7825dc79233row6_col5\" class=\"data row6 col5\" >0.0411725</td>\n                        <td id=\"T_7643e0e6_7f7a_11ec_881c_b7825dc79233row6_col6\" class=\"data row6 col6\" >1</td>\n                        <td id=\"T_7643e0e6_7f7a_11ec_881c_b7825dc79233row6_col7\" class=\"data row6 col7\" >0.00824055</td>\n                        <td id=\"T_7643e0e6_7f7a_11ec_881c_b7825dc79233row6_col8\" class=\"data row6 col8\" >0.149894</td>\n            </tr>\n            <tr>\n                        <th id=\"T_7643e0e6_7f7a_11ec_881c_b7825dc79233level0_row7\" class=\"row_heading level0 row7\" >tempo</th>\n                        <td id=\"T_7643e0e6_7f7a_11ec_881c_b7825dc79233row7_col0\" class=\"data row7 col0\" >-0.0253918</td>\n                        <td id=\"T_7643e0e6_7f7a_11ec_881c_b7825dc79233row7_col1\" class=\"data row7 col1\" >-0.0263097</td>\n                        <td id=\"T_7643e0e6_7f7a_11ec_881c_b7825dc79233row7_col2\" class=\"data row7 col2\" >-0.242089</td>\n                        <td id=\"T_7643e0e6_7f7a_11ec_881c_b7825dc79233row7_col3\" class=\"data row7 col3\" >0.195227</td>\n                        <td id=\"T_7643e0e6_7f7a_11ec_881c_b7825dc79233row7_col4\" class=\"data row7 col4\" >0.022215</td>\n                        <td id=\"T_7643e0e6_7f7a_11ec_881c_b7825dc79233row7_col5\" class=\"data row7 col5\" >0.00273169</td>\n                        <td id=\"T_7643e0e6_7f7a_11ec_881c_b7825dc79233row7_col6\" class=\"data row7 col6\" >0.00824055</td>\n                        <td id=\"T_7643e0e6_7f7a_11ec_881c_b7825dc79233row7_col7\" class=\"data row7 col7\" >1</td>\n                        <td id=\"T_7643e0e6_7f7a_11ec_881c_b7825dc79233row7_col8\" class=\"data row7 col8\" >0.0522212</td>\n            </tr>\n            <tr>\n                        <th id=\"T_7643e0e6_7f7a_11ec_881c_b7825dc79233level0_row8\" class=\"row_heading level0 row8\" >valence</th>\n                        <td id=\"T_7643e0e6_7f7a_11ec_881c_b7825dc79233row8_col0\" class=\"data row8 col0\" >0.0100698</td>\n                        <td id=\"T_7643e0e6_7f7a_11ec_881c_b7825dc79233row8_col1\" class=\"data row8 col1\" >-0.0138406</td>\n                        <td id=\"T_7643e0e6_7f7a_11ec_881c_b7825dc79233row8_col2\" class=\"data row8 col2\" >0.473165</td>\n                        <td id=\"T_7643e0e6_7f7a_11ec_881c_b7825dc79233row8_col3\" class=\"data row8 col3\" >0.0386027</td>\n                        <td id=\"T_7643e0e6_7f7a_11ec_881c_b7825dc79233row8_col4\" class=\"data row8 col4\" >-0.219967</td>\n                        <td id=\"T_7643e0e6_7f7a_11ec_881c_b7825dc79233row8_col5\" class=\"data row8 col5\" >-0.0450931</td>\n                        <td id=\"T_7643e0e6_7f7a_11ec_881c_b7825dc79233row8_col6\" class=\"data row8 col6\" >0.149894</td>\n                        <td id=\"T_7643e0e6_7f7a_11ec_881c_b7825dc79233row8_col7\" class=\"data row8 col7\" >0.0522212</td>\n                        <td id=\"T_7643e0e6_7f7a_11ec_881c_b7825dc79233row8_col8\" class=\"data row8 col8\" >1</td>\n            </tr>\n    </tbody></table>"
          },
          "metadata": {}
        }
      ],
      "execution_count": 2,
      "metadata": {
        "dc": {
          "key": "10"
        },
        "tags": [
          "sample_code"
        ],
        "gather": {
          "logged": 1643292448884
        }
      }
    },
    {
      "cell_type": "markdown",
      "source": [
        "## 3. Normalizing the feature data\n",
        "<p>As mentioned earlier, it can be particularly useful to simplify our models and use as few features as necessary to achieve the best result. Since we didn't find any particular strong correlations between our features, we can instead use a common approach to reduce the number of features called <strong>principal component analysis (PCA)</strong>. </p>\n",
        "<p>It is possible that the variance between genres can be explained by just a few features in the dataset. PCA rotates the data along the axis of highest variance, thus allowing us to determine the relative contribution of each feature of our data towards the variance between classes. </p>\n",
        "<p>However, since PCA uses the absolute variance of a feature to rotate the data, a feature with a broader range of values will overpower and bias the algorithm relative to the other features. To avoid this, we must first normalize our data. There are a few methods to do this, but a common way is through <em>standardization</em>, such that all features have a mean = 0 and standard deviation = 1 (the resultant is a z-score).</p>"
      ],
      "metadata": {
        "dc": {
          "key": "17"
        },
        "deletable": false,
        "editable": false,
        "run_control": {
          "frozen": true
        },
        "tags": [
          "context"
        ]
      }
    },
    {
      "cell_type": "code",
      "source": [
        "# Define our features \n",
        "features = echo_tracks.drop(['genre_top','track_id'], axis=1)\n",
        "\n",
        "# Define our labels\n",
        "labels = echo_tracks['genre_top']\n",
        "\n",
        "# Import the StandardScaler\n",
        "from sklearn.preprocessing import StandardScaler\n",
        "\n",
        "# Scale the features and set the values to a new variable\n",
        "scaler = StandardScaler()\n",
        "scaled_train_features = scaler.fit_transform(features)"
      ],
      "outputs": [],
      "execution_count": 3,
      "metadata": {
        "dc": {
          "key": "17"
        },
        "tags": [
          "sample_code"
        ],
        "gather": {
          "logged": 1643292452287
        }
      }
    },
    {
      "cell_type": "markdown",
      "source": [
        "## 4. Principal Component Analysis on our scaled data\n",
        "<p>Now that we have preprocessed our data, we are ready to use PCA to determine by how much we can reduce the dimensionality of our data. We can use <strong>scree-plots</strong> and <strong>cumulative explained ratio plots</strong> to find the number of components to use in further analyses.</p>\n",
        "<p>Scree-plots display the number of components against the variance explained by each component, sorted in descending order of variance. Scree-plots help us get a better sense of which components explain a sufficient amount of variance in our data. When using scree plots, an 'elbow' (a steep drop from one data point to the next) in the plot is typically used to decide on an appropriate cutoff.</p>"
      ],
      "metadata": {
        "dc": {
          "key": "24"
        },
        "deletable": false,
        "editable": false,
        "run_control": {
          "frozen": true
        },
        "tags": [
          "context"
        ]
      }
    },
    {
      "cell_type": "code",
      "source": [
        "# This is just to make plots appear in the notebook\n",
        "%matplotlib inline\n",
        "\n",
        "# Import our plotting module, and PCA class\n",
        "import matplotlib.pyplot as plt\n",
        "from sklearn.decomposition import PCA\n",
        "\n",
        "# Get our explained variance ratios from PCA using all features\n",
        "pca = PCA()\n",
        "pca.fit(scaled_train_features)\n",
        "exp_variance = pca.explained_variance_ratio_\n",
        "\n",
        "# plot the explained variance using a barplot\n",
        "fig, ax = plt.subplots()\n",
        "ax.plot(range(pca.n_components_), exp_variance, marker='o', linewidth=3)\n",
        "ax.set_xlabel('Principal Component #')\n",
        "ax.set_ylabel('Eigenvalue')\n",
        "plt.grid(True)"
      ],
      "outputs": [
        {
          "output_type": "display_data",
          "data": {
            "text/plain": "<Figure size 432x288 with 1 Axes>",
            "image/png": "[encoded data removed]"
          },
          "metadata": {
            "needs_background": "light"
          }
        }
      ],
      "execution_count": 10,
      "metadata": {
        "dc": {
          "key": "24"
        },
        "tags": [
          "sample_code"
        ],
        "gather": {
          "logged": 1643293173395
        }
      }
    },
    {
      "cell_type": "markdown",
      "source": [
        "## 5. Further visualization of PCA\n",
        "<p>Unfortunately, there does not appear to be a clear elbow in this scree plot, which means it is not straightforward to find the number of intrinsic dimensions using this method. </p>\n",
        "<p>But all is not lost! Instead, we can also look at the <strong>cumulative explained variance plot</strong> to determine how many features are required to explain, say, about 85% of the variance (cutoffs are somewhat arbitrary here, and usually decided upon by 'rules of thumb'). Once we determine the appropriate number of components, we can perform PCA with that many components, ideally reducing the dimensionality of our data.</p>"
      ],
      "metadata": {
        "dc": {
          "key": "31"
        },
        "deletable": false,
        "editable": false,
        "run_control": {
          "frozen": true
        },
        "tags": [
          "context"
        ]
      }
    },
    {
      "cell_type": "code",
      "source": [
        "# Import numpy\n",
        "import numpy as np\n",
        "\n",
        "# Calculate the cumulative explained variance\n",
        "cum_exp_variance = np.cumsum(exp_variance)\n",
        "\n",
        "# Plot the cumulative explained variance and draw a dashed line at 0.85.\n",
        "fig, ax = plt.subplots()\n",
        "ax.plot(cum_exp_variance)\n",
        "ax.axhline(y=0.85, linestyle='--')\n",
        "\n",
        "# choose the n_components where about 85% of our variance can be explained\n",
        "n_components = 6\n",
        "\n",
        "# Perform PCA with the chosen number of components and project data onto components\n",
        "pca = PCA(n_components, random_state=10)\n",
        "pca.fit(scaled_train_features)\n",
        "pca_projection = pca.transform(scaled_train_features)"
      ],
      "outputs": [
        {
          "output_type": "display_data",
          "data": {
            "text/plain": "<Figure size 432x288 with 1 Axes>",
            "image/png": "[encoded data removed]"
          },
          "metadata": {
            "needs_background": "light"
          }
        }
      ],
      "execution_count": 11,
      "metadata": {
        "dc": {
          "key": "31"
        },
        "tags": [
          "sample_code"
        ],
        "gather": {
          "logged": 1643293218402
        }
      }
    },
    {
      "cell_type": "markdown",
      "source": [
        "## 6. Train a decision tree to classify genre\n",
        "<p>Now we can use the lower dimensional PCA projection of the data to classify songs into genres. To do that, we first need to split our dataset into 'train' and 'test' subsets, where the 'train' subset will be used to train our model while the 'test' dataset allows for model performance validation.</p>\n",
        "<p>Here, we will be using a simple algorithm known as a decision tree. Decision trees are rule-based classifiers that take in features and follow a 'tree structure' of binary decisions to ultimately classify a data point into one of two or more categories. In addition to being easy to both use and interpret, decision trees allow us to visualize the 'logic flowchart' that the model generates from the training data.</p>"
      ],
      "metadata": {
        "dc": {
          "key": "38"
        },
        "deletable": false,
        "editable": false,
        "run_control": {
          "frozen": true
        },
        "tags": [
          "context"
        ]
      }
    },
    {
      "cell_type": "code",
      "source": [
        "# Import train_test_split function and Decision tree classifier\n",
        "from sklearn.model_selection import train_test_split\n",
        "from sklearn.tree import DecisionTreeClassifier\n",
        "\n",
        "# Split our data\n",
        "train_features, test_features, train_labels, test_labels = train_test_split(pca_projection, labels, random_state=1234)\n",
        "\n",
        "# Train our decision tree\n",
        "tree = DecisionTreeClassifier(random_state=1234)\n",
        "tree.fit(train_features, train_labels)\n",
        "\n",
        "# Predict the labels for the test data\n",
        "pred_labels_tree = tree.predict(test_features)"
      ],
      "outputs": [],
      "execution_count": 12,
      "metadata": {
        "dc": {
          "key": "38"
        },
        "tags": [
          "sample_code"
        ],
        "gather": {
          "logged": 1643293309074
        }
      }
    },
    {
      "cell_type": "markdown",
      "source": [
        "## 7. Compare our decision tree to a logistic regression\n",
        "<p>Although our tree's performance is decent, it's a bad idea to immediately assume that it's therefore the perfect tool for this job -- there's always the possibility of other models that will perform even better! It's always a worthwhile idea to at least test a few other algorithms and find the one that's best for our data.</p>\n",
        "<p>Sometimes simplest is best, and so we will start by applying <strong>logistic regression</strong>. Logistic regression makes use of what's called the logistic function to calculate the odds that a given data point belongs to a given class. Once we have both models, we can compare them on a few performance metrics, such as false positive and false negative rate (or how many points are inaccurately classified). </p>"
      ],
      "metadata": {
        "dc": {
          "key": "45"
        },
        "deletable": false,
        "editable": false,
        "run_control": {
          "frozen": true
        },
        "tags": [
          "context"
        ]
      }
    },
    {
      "cell_type": "code",
      "source": [
        "# Import LogisticRegression\n",
        "from sklearn.linear_model import LogisticRegression\n",
        "\n",
        "# Train our logistic regression and predict labels for the test set\n",
        "logreg = LogisticRegression(random_state=1234)\n",
        "logreg.fit(train_features, train_labels)\n",
        "pred_labels_logit = logreg.predict(test_features)\n",
        "\n",
        "# Create the classification report for both models\n",
        "from sklearn.metrics import classification_report\n",
        "class_rep_tree = classification_report(test_labels, pred_labels_tree)\n",
        "class_rep_log = classification_report(test_labels, pred_labels_logit)\n",
        "\n",
        "print(\"Decision Tree: \\n\", class_rep_tree)\n",
        "print(\"Logistic Regression: \\n\", class_rep_log)"
      ],
      "outputs": [
        {
          "output_type": "stream",
          "name": "stdout",
          "text": "Decision Tree: \n               precision    recall  f1-score   support\n\n     Hip-Hop       0.61      0.60      0.60       230\n        Rock       0.90      0.91      0.91       971\n\n    accuracy                           0.85      1201\n   macro avg       0.76      0.75      0.76      1201\nweighted avg       0.85      0.85      0.85      1201\n\nLogistic Regression: \n               precision    recall  f1-score   support\n\n     Hip-Hop       0.76      0.52      0.62       230\n        Rock       0.89      0.96      0.93       971\n\n    accuracy                           0.88      1201\n   macro avg       0.83      0.74      0.77      1201\nweighted avg       0.87      0.88      0.87      1201\n\n"
        }
      ],
      "execution_count": 13,
      "metadata": {
        "dc": {
          "key": "45"
        },
        "tags": [
          "sample_code"
        ],
        "gather": {
          "logged": 1643293363315
        }
      }
    },
    {
      "cell_type": "markdown",
      "source": [
        "## 8. Balance our data for greater performance\n",
        "<p>Both our models do similarly well, boasting an average precision of 87% each. However, looking at our classification report, we can see that rock songs are fairly well classified, but hip-hop songs are disproportionately misclassified as rock songs. </p>\n",
        "<p>Why might this be the case? Well, just by looking at the number of data points we have for each class, we see that we have far more data points for the rock classification than for hip-hop, potentially skewing our model's ability to distinguish between classes. This also tells us that most of our model's accuracy is driven by its ability to classify just rock songs, which is less than ideal.</p>\n",
        "<p>To account for this, we can weight the value of a correct classification in each class inversely to the occurrence of data points for each class. Since a correct classification for \"Rock\" is not more important than a correct classification for \"Hip-Hop\" (and vice versa), we only need to account for differences in <em>sample size</em> of our data points when weighting our classes here, and not relative importance of each class. </p>"
      ],
      "metadata": {
        "dc": {
          "key": "52"
        },
        "deletable": false,
        "editable": false,
        "run_control": {
          "frozen": true
        },
        "tags": [
          "context"
        ]
      }
    },
    {
      "cell_type": "code",
      "source": [
        "# Subset only the hip-hop tracks, and then only the rock tracks\n",
        "hop_only = echo_tracks.loc[echo_tracks['genre_top'] == 'Hip-Hop']\n",
        "rock_only = echo_tracks.loc[echo_tracks['genre_top'] == 'Rock']\n",
        "\n",
        "# sample the rocks songs to be the same number as there are hip-hop songs\n",
        "rock_only = rock_only.sample(n=len(hop_only), random_state=1234)\n",
        "\n",
        "# concatenate the dataframes rock_only and hop_only\n",
        "rock_hop_bal = pd.concat([rock_only, hop_only])\n",
        "\n",
        "# The features, labels, and pca projection are created for the balanced dataframe\n",
        "features = rock_hop_bal.drop(['genre_top', 'track_id'], axis=1) \n",
        "labels = rock_hop_bal['genre_top']\n",
        "pca_projection = pca.fit_transform(scaler.fit_transform(features))\n",
        "\n",
        "# Redefine the train and test set with the pca_projection from the balanced data\n",
        "train_features, test_features, train_labels, test_labels = train_test_split(pca_projection, labels, random_state=1234)"
      ],
      "outputs": [],
      "execution_count": 14,
      "metadata": {
        "dc": {
          "key": "52"
        },
        "tags": [
          "sample_code"
        ],
        "gather": {
          "logged": 1643293721804
        }
      }
    },
    {
      "cell_type": "markdown",
      "source": [
        "## 9. Does balancing our dataset improve model bias?\n",
        "<p>We've now balanced our dataset, but in doing so, we've removed a lot of data points that might have been crucial to training our models. Let's test to see if balancing our data improves model bias towards the \"Rock\" classification while retaining overall classification performance. </p>\n",
        "<p>Note that we have already reduced the size of our dataset and will go forward without applying any dimensionality reduction. In practice, we would consider dimensionality reduction more rigorously when dealing with vastly large datasets and when computation times become prohibitively large.</p>"
      ],
      "metadata": {
        "dc": {
          "key": "59"
        },
        "deletable": false,
        "editable": false,
        "run_control": {
          "frozen": true
        },
        "tags": [
          "context"
        ]
      }
    },
    {
      "cell_type": "code",
      "source": [
        "# Train our decision tree on the balanced data\n",
        "tree = DecisionTreeClassifier()\n",
        "tree.fit(train_features, train_labels)\n",
        "pred_labels_tree = tree.predict(test_features)\n",
        "\n",
        "# Train our logistic regression on the balanced data\n",
        "logreg = LogisticRegression()\n",
        "logreg.fit(train_features, train_labels)\n",
        "pred_labels_logit = logreg.predict(test_features)\n",
        "\n",
        "# Compare the models\n",
        "print(\"Decision Tree: \\n\", classification_report(test_labels, pred_labels_tree))\n",
        "print(\"Logistic Regression: \\n\", classification_report(test_labels, pred_labels_logit))"
      ],
      "outputs": [
        {
          "output_type": "stream",
          "name": "stdout",
          "text": "Decision Tree: \n               precision    recall  f1-score   support\n\n     Hip-Hop       0.75      0.78      0.76       220\n        Rock       0.78      0.76      0.77       235\n\n    accuracy                           0.77       455\n   macro avg       0.77      0.77      0.77       455\nweighted avg       0.77      0.77      0.77       455\n\nLogistic Regression: \n               precision    recall  f1-score   support\n\n     Hip-Hop       0.80      0.83      0.81       220\n        Rock       0.83      0.80      0.82       235\n\n    accuracy                           0.82       455\n   macro avg       0.82      0.82      0.82       455\nweighted avg       0.82      0.82      0.82       455\n\n"
        }
      ],
      "execution_count": 15,
      "metadata": {
        "dc": {
          "key": "59"
        },
        "tags": [
          "sample_code"
        ],
        "gather": {
          "logged": 1643293807455
        }
      }
    },
    {
      "cell_type": "markdown",
      "source": [
        "## 10. Using cross-validation to evaluate our models\n",
        "<p>Success! Balancing our data has removed bias towards the more prevalent class. To get a good sense of how well our models are actually performing, we can apply what's called <strong>cross-validation</strong> (CV). This step allows us to compare models in a more rigorous fashion.</p>\n",
        "<p>Since the way our data is split into train and test sets can impact model performance, CV attempts to split the data multiple ways and test the model on each of the splits. Although there are many different CV methods, all with their own advantages and disadvantages, we will use what's known as <strong>K-fold</strong> CV here. K-fold first splits the data into K different, equally sized subsets. Then, it iteratively uses each subset as a test set while using the remainder of the data as train sets. Finally, we can then aggregate the results from each fold for a final model performance score.</p>"
      ],
      "metadata": {
        "dc": {
          "key": "66"
        },
        "deletable": false,
        "editable": false,
        "run_control": {
          "frozen": true
        },
        "tags": [
          "context"
        ]
      }
    },
    {
      "cell_type": "code",
      "source": [
        "from sklearn.model_selection import KFold, cross_val_score\n",
        "\n",
        "# Set up our K-fold cross-validation\n",
        "kf = KFold(n_splits=10)\n",
        "\n",
        "tree = DecisionTreeClassifier(random_state=1234)\n",
        "logreg = LogisticRegression(random_state=1234)\n",
        "\n",
        "# Train our models using KFold cv\n",
        "tree_score = cross_val_score(tree,pca_projection, labels, cv=kf)\n",
        "logit_score = cross_val_score(logreg,pca_projection, labels, cv=kf)\n",
        "\n",
        "# Print the mean of each array of scores\n",
        "print(\"Decision Tree:\", tree_score, \"Logistic Regression:\", logit_score)"
      ],
      "outputs": [
        {
          "output_type": "stream",
          "name": "stdout",
          "text": "Decision Tree: [0.76373626 0.78021978 0.73626374 0.73626374 0.71978022 0.71428571\n 0.76373626 0.73076923 0.73626374 0.81318681] Logistic Regression: [0.83516484 0.76373626 0.8021978  0.83516484 0.73076923 0.79120879\n 0.78021978 0.75274725 0.7967033  0.82417582]\n"
        }
      ],
      "execution_count": 16,
      "metadata": {
        "dc": {
          "key": "66"
        },
        "tags": [
          "sample_code"
        ],
        "gather": {
          "logged": 1643293920161
        }
      }
    },
    {
      "cell_type": "markdown",
      "source": [
        "## 11. Hyperparameter Tuning\n",
        "<p><strong>AzureML ahead...</strong> This step requires you to use an AzureML Compute Cluster</p>\n",
        "<p>Now let's find the best hyperparameters for the algorithm you've selected in the previous step using <strong>AzureML Hyperdrive</strong>.</p>\n"
      ],
      "metadata": {}
    },
    {
      "cell_type": "code",
      "source": [
        "from azureml.core import Workspace, Experiment\n",
        "from azureml.core.compute import ComputeTarget, AmlCompute\n",
        "from azureml.core.compute_target import ComputeTargetException\n",
        "\n",
        "ws = Workspace.from_config()\n",
        "exp = Experiment(workspace=ws, name=\"song-classification-exp\")\n",
        "\n",
        "print('Workspace name: ' + ws.name, 'SubscriptionID: ' + ws.subscription_id, 'Resource Group: ' + ws.resource_group, sep = '\\n')\n",
        "\n",
        "cluster_name = \"ml-d2v2-cluster\"\n",
        "\n",
        "try:\n",
        "    compute_target = ComputeTarget(workspace=ws, name=cluster_name)\n",
        "    print('Found existing compute target')\n",
        "except ComputeTargetException:\n",
        "    print('Creating a new compute target...')\n",
        "    compute_config = AmlCompute.provisioning_configuration(vm_size='STANDARD_D2_V2', \n",
        "                                                           max_nodes=4)\n",
        "    compute_target = ComputeTarget.create(ws, cluster_name, compute_config)\n",
        "\n",
        "compute_target.wait_for_completion(show_output=True)\n",
        "\n",
        "run = exp.start_logging()"
      ],
      "outputs": [
        {
          "output_type": "stream",
          "name": "stdout",
          "text": "Workspace name: azml-mkt-ws\nSubscriptionID: 0f63d38b-5eec-4425-9e43-fc360a828ee1\nResource Group: securemlrg\nCreating a new compute target...\nInProgress..\nSucceededProvisioning operation finished, operation \"Succeeded\"\nSucceeded\nAmlCompute wait for completion finished\n\nMinimum number of nodes requested have been provisioned\n"
        }
      ],
      "execution_count": 19,
      "metadata": {
        "gather": {
          "logged": 1643297644848
        }
      }
    },
    {
      "cell_type": "code",
      "source": [
        "from azureml.core import Dataset, Datastore\n",
        "\n",
        "# create tabular dataset from a single file in datastore\n",
        "datastore = Datastore.get(ws, 'workspaceblobstore')\n",
        "song_balanced_dataset = Dataset.Tabular.register_pandas_dataframe(dataframe=rock_hop_bal, target=datastore, name='song-classification-balanced', show_progress=True)\n",
        "song_balanced_dataset"
      ],
      "outputs": [
        {
          "output_type": "stream",
          "name": "stderr",
          "text": "Method register_pandas_dataframe: This is an experimental method, and may change at any time. Please see https://aka.ms/azuremlexperimental for more information.\n"
        },
        {
          "output_type": "stream",
          "name": "stdout",
          "text": "Validating arguments.\nArguments validated.\nSuccessfully obtained datastore reference and path.\nUploading file to managed-dataset/86a6482c-9c7b-4112-82b6-fdc2d571ce9d/\nSuccessfully uploaded file to datastore.\nCreating and registering a new dataset.\nSuccessfully created and registered a new dataset.\n"
        },
        {
          "output_type": "execute_result",
          "execution_count": 31,
          "data": {
            "text/plain": "{\n  \"source\": [\n    \"('workspaceblobstore', 'managed-dataset/86a6482c-9c7b-4112-82b6-fdc2d571ce9d/')\"\n  ],\n  \"definition\": [\n    \"GetDatastoreFiles\",\n    \"ReadParquetFile\",\n    \"DropColumns\"\n  ],\n  \"registration\": {\n    \"id\": \"9c3bba0d-aab2-45ed-a5f9-e70287c48de2\",\n    \"name\": \"song-classification-balanced\",\n    \"version\": 1,\n    \"workspace\": \"Workspace.create(name='azml-mkt-ws', subscription_id='0f63d38b-5eec-4425-9e43-fc360a828ee1', resource_group='securemlrg')\"\n  }\n}"
          },
          "metadata": {}
        }
      ],
      "execution_count": 31,
      "metadata": {
        "jupyter": {
          "source_hidden": false,
          "outputs_hidden": false
        },
        "nteract": {
          "transient": {
            "deleting": false
          }
        },
        "gather": {
          "logged": 1643299315731
        }
      }
    },
    {
      "cell_type": "code",
      "source": [
        "%%writefile ./run_decision_tree.py\n",
        "\n",
        "import argparse\n",
        "import os\n",
        "\n",
        "# importing necessary libraries\n",
        "import numpy as np\n",
        "\n",
        "from sklearn.metrics import confusion_matrix\n",
        "from sklearn.model_selection import train_test_split\n",
        "from sklearn.tree import DecisionTreeClassifier\n",
        "from sklearn.metrics import accuracy_score\n",
        "from sklearn.decomposition import PCA\n",
        "from sklearn.preprocessing import StandardScaler\n",
        "\n",
        "import joblib\n",
        "from azureml.core import Dataset, Run\n",
        "from azureml.core import Workspace, Experiment\n",
        "\n",
        "run = Run.get_context()\n",
        "workspace = run.experiment.workspace\n",
        "\n",
        "def main():\n",
        "    parser = argparse.ArgumentParser()\n",
        "    parser.add_argument('--dataset_name', type=str, help='Name of registered AzureML dataset')\n",
        "    parser.add_argument('--criterion', type=str, default='gini',\n",
        "                        help='DecisionTreeClassifier parameter for criterion')\n",
        "    parser.add_argument('--min_samples_leaf', type=int, default=10,\n",
        "                        help='DecisionTreeClassifier parameter for min_samples_leaf')\n",
        "    parser.add_argument('--max_depth', type=int, default=3,\n",
        "                        help='DecisionTreeClassifier parameter for max_depth')\n",
        "\n",
        "    args = parser.parse_args()\n",
        "    run.log('criterion', np.str(args.criterion))\n",
        "    run.log('min_samples_leaf', np.int(args.min_samples_leaf))\n",
        "    run.log('max_depth', np.int(args.max_depth))\n",
        "\n",
        "    # Load train_features, train_labels, test_features, test_labels\n",
        "    song_ds = Dataset.get_by_name(workspace=workspace, name=args.dataset_name)\n",
        "    song_df = song_ds.to_pandas_dataframe()\n",
        "\n",
        "    features = song_df.drop(['genre_top', 'track_id'], axis=1) \n",
        "    labels = song_df['genre_top']\n",
        "    \n",
        "    pca = PCA()\n",
        "    scaler = StandardScaler()\n",
        "    pca_projection = pca.fit_transform(scaler.fit_transform(features))\n",
        "\n",
        "    # Redefine the train and test set with the pca_projection from the balanced data\n",
        "    train_features, test_features, train_labels, test_labels = train_test_split(pca_projection, labels, random_state=1234)\n",
        "\n",
        "\n",
        "    # Train a Decision Tree Classifier\n",
        "    tree = DecisionTreeClassifier(min_samples_leaf=args.min_samples_leaf, max_depth=args.max_depth, criterion=args.criterion)\n",
        "    tree.fit(train_features, train_labels)\n",
        "    pred_labels_tree = tree.predict(test_features)\n",
        "\n",
        "    # model accuracy for X_test\n",
        "    accuracy = accuracy_score(test_labels, pred_labels_tree)\n",
        "    print('Accuracy of Decision Tree classifier on test set: {:.2f}'.format(accuracy))\n",
        "    run.log('Accuracy', np.float(accuracy))\n",
        "    \n",
        "    # creating a confusion matrix\n",
        "    cm = confusion_matrix(test_labels, pred_labels_tree)\n",
        "    print(cm)\n",
        "\n",
        "    os.makedirs('outputs', exist_ok=True)\n",
        "    # files saved in the \"outputs\" folder are automatically uploaded into run history\n",
        "    joblib.dump(tree, 'outputs/tree_model.joblib')\n",
        "\n",
        "\n",
        "if __name__ == '__main__':\n",
        "    main()"
      ],
      "outputs": [
        {
          "output_type": "stream",
          "name": "stdout",
          "text": "Writing ./run_decision_tree.py\n"
        }
      ],
      "execution_count": 34,
      "metadata": {}
    },
    {
      "cell_type": "code",
      "source": [
        "import azureml.core\n",
        "from azureml.core import Environment, ScriptRunConfig\n",
        "src = ScriptRunConfig(source_directory='./',\n",
        "                      script='run_decision_tree.py',\n",
        "                      arguments=['--dataset_name', song_balanced_dataset.name],\n",
        "                      compute_target=compute_target,\n",
        "                      environment=Environment.get(ws, name='AzureML-sklearn-0.24-ubuntu18.04-py37-cpu'))"
      ],
      "outputs": [],
      "execution_count": 35,
      "metadata": {
        "jupyter": {
          "source_hidden": false,
          "outputs_hidden": false
        },
        "nteract": {
          "transient": {
            "deleting": false
          }
        },
        "gather": {
          "logged": 1643301619235
        }
      }
    },
    {
      "cell_type": "code",
      "source": [
        "from azureml.train.estimator import Estimator\n",
        "from azureml.widgets import RunDetails\n",
        "from azureml.train.hyperdrive import (\n",
        "    RandomParameterSampling,\n",
        "    BanditPolicy,\n",
        "    HyperDriveConfig,\n",
        "    quniform,\n",
        "    uniform,\n",
        "    choice,\n",
        "    PrimaryMetricGoal,\n",
        ")\n",
        "\n",
        "# Specify hyperparameter space\n",
        "ps = RandomParameterSampling(\n",
        "    {\n",
        "        \"--max_depth\": choice(range(2,20)),\n",
        "        \"--min_samples_leaf\": choice(range(5, 100)),\n",
        "        \"--criterion\": choice('gini','entropy'),\n",
        "    }\n",
        ")\n",
        "\n",
        "early_termination_policy = BanditPolicy(evaluation_interval=2, slack_factor=0.1)\n",
        "\n",
        "# HyperDrive job configuration\n",
        "htc = HyperDriveConfig(\n",
        "    run_config = src,\n",
        "    hyperparameter_sampling=ps,\n",
        "    primary_metric_name=\"Accuracy\",\n",
        "    primary_metric_goal=PrimaryMetricGoal.MAXIMIZE,\n",
        "    max_total_runs= len(ps._parameter_space) * 20,\n",
        "    max_concurrent_runs=4,\n",
        ")\n",
        "\n",
        "htr = exp.submit(config=htc)"
      ],
      "outputs": [],
      "execution_count": 49,
      "metadata": {
        "jupyter": {
          "source_hidden": false,
          "outputs_hidden": false
        },
        "nteract": {
          "transient": {
            "deleting": false
          }
        },
        "gather": {
          "logged": 1643306352252
        }
      }
    },
    {
      "cell_type": "code",
      "source": [
        "best_run = htr.get_best_run_by_primary_metric()\n",
        "best_run_metrics = best_run.get_metrics()\n",
        "parameter_values = best_run.get_details()['runDefinition']['arguments']\n",
        "\n",
        "print('Best Run Id: ', best_run.id)\n",
        "print('\\n Accuracy:', best_run_metrics['Accuracy'])\n",
        "print(best_run.get_file_names())\n",
        "print(parameter_values)"
      ],
      "outputs": [
        {
          "output_type": "stream",
          "name": "stdout",
          "text": "Best Run Id:  HD_32211a0b-f42f-4f54-8267-e80536a40084_25\n\n Accuracy: 0.8395604395604396\n['logs/azureml/17_azureml.log', 'logs/azureml/dataprep/backgroundProcess.log', 'logs/azureml/dataprep/backgroundProcess_Telemetry.log', 'logs/azureml/dataprep/rslex.log', 'outputs/tree_model.joblib', 'system_logs/cs_capability/cs-capability.log', 'system_logs/hosttools_capability/hosttools-capability.log', 'system_logs/lifecycler/execution-wrapper.log', 'system_logs/lifecycler/lifecycler.log', 'system_logs/lifecycler/vm-bootstrapper.log', 'user_logs/std_log.txt']\n['--dataset_name', 'song-classification-balanced', '--criterion', 'entropy', '--max_depth', '7', '--min_samples_leaf', '23']\n"
        }
      ],
      "execution_count": 55,
      "metadata": {
        "jupyter": {
          "source_hidden": false,
          "outputs_hidden": false
        },
        "nteract": {
          "transient": {
            "deleting": false
          }
        },
        "gather": {
          "logged": 1643313240143
        }
      }
    },
    {
      "cell_type": "code",
      "source": [
        "model = best_run.register_model(model_name='song-classifier-tree-model', model_path='outputs/tree_model.joblib')"
      ],
      "outputs": [],
      "execution_count": 54,
      "metadata": {
        "jupyter": {
          "source_hidden": false,
          "outputs_hidden": false
        },
        "nteract": {
          "transient": {
            "deleting": false
          }
        },
        "gather": {
          "logged": 1643313123178
        }
      }
    }
  ],
  "metadata": {
    "kernelspec": {
      "name": "python3-azureml",
      "language": "python",
      "display_name": "Python 3.6 - AzureML"
    },
    "language_info": {
      "name": "python",
      "version": "3.6.9",
      "mimetype": "text/x-python",
      "codemirror_mode": {
        "name": "ipython",
        "version": 3
      },
      "pygments_lexer": "ipython3",
      "nbconvert_exporter": "python",
      "file_extension": ".py"
    },
    "kernel_info": {
      "name": "python3-azureml"
    },
    "nteract": {
      "version": "nteract-front-end@1.0.0"
    },
    "microsoft": {
      "host": {
        "AzureML": {
          "notebookHasBeenCompleted": true
        }
      }
    }
  },
  "nbformat": 4,
  "nbformat_minor": 0
}