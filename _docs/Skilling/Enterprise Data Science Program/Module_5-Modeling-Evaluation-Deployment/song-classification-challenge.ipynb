{
  "cells": [
    {
      "cell_type": "markdown",
      "source": [
        "## 1. Preparing our dataset\n",
        "<p><strong>Automatic Song Classification using Machine Learning</strong></p>\n",
        "<p>Streaming services have looked into means of categorizing music to allow for personalized recommendations. One method involves direct analysis of the raw audio information in a given song, scoring the raw data on a variety of metrics. Today, we'll be examining data compiled by a research group known as The Echo Nest. Our goal is to look through this dataset and classify songs as being either 'Hip-Hop' or 'Rock' - all without listening to a single one ourselves. In doing so, we will learn how to clean our data, do some exploratory data visualization, and use feature reduction towards the goal of feeding our data through some simple machine learning algorithms, such as decision trees and logistic regression.</p>\n",
        "<p>To begin with, let's load the metadata about our tracks alongside the track metrics compiled by The Echo Nest, a music intelligence and data platform for developers and media companies. A song is about more than its title, artist, and number of listens. We have another dataset that has musical features of each track such as <code>danceability</code> and <code>acousticness</code> on a scale from -1 to 1. These exist in two different files, which are in different formats - CSV and JSON. While CSV is a popular file format for denoting tabular data, JSON is another common file format in which databases often return the results of a given query.</p>\n",
        "<p>Let's start by creating two pandas <code>DataFrames</code> out of these files that we can merge so we have features and labels (often also referred to as <code>X</code> and <code>y</code>) for the classification later on.</p>"
      ],
      "metadata": {
        "dc": {
          "key": "3"
        },
        "deletable": false,
        "editable": false,
        "run_control": {
          "frozen": true
        },
        "tags": [
          "context"
        ]
      }
    },
    {
      "cell_type": "code",
      "source": [
        "import pandas as pd\n",
        "\n",
        "# Read in track metadata with genre labels\n",
        "tracks = ...\n",
        "\n",
        "# Read in track metrics with the features\n",
        "echonest_metrics = ...\n",
        "\n",
        "# Merge the relevant columns of tracks and echonest_metrics\n",
        "echo_tracks = ...\n",
        "\n",
        "# Inspect the resultant dataframe\n",
        "..."
      ],
      "outputs": [],
      "execution_count": null,
      "metadata": {
        "dc": {
          "key": "3"
        },
        "tags": [
          "sample_code"
        ]
      }
    },
    {
      "cell_type": "markdown",
      "source": [
        "## 2. Pairwise relationships between continuous variables\n",
        "<p>We typically want to avoid using variables that have strong correlations with each other -- hence avoiding feature redundancy -- for a few reasons:</p>\n",
        "<ul>\n",
        "<li>To keep the model simple and improve interpretability (with many features, we run the risk of overfitting).</li>\n",
        "<li>When our datasets are very large, using fewer features can drastically speed up our computation time.</li>\n",
        "</ul>\n",
        "<p>To get a sense of whether there are any strongly correlated features in our data, we will use built-in functions in the <code>pandas</code> package.</p>"
      ],
      "metadata": {
        "dc": {
          "key": "10"
        },
        "deletable": false,
        "editable": false,
        "run_control": {
          "frozen": true
        },
        "tags": [
          "context"
        ]
      }
    },
    {
      "cell_type": "code",
      "source": [
        "# Create a correlation matrix\n",
        "corr_metrics = ...\n",
        "corr_metrics.style.background_gradient()"
      ],
      "outputs": [],
      "execution_count": null,
      "metadata": {
        "dc": {
          "key": "10"
        },
        "tags": [
          "sample_code"
        ]
      }
    },
    {
      "cell_type": "markdown",
      "source": [
        "## 3. Normalizing the feature data\n",
        "<p>As mentioned earlier, it can be particularly useful to simplify our models and use as few features as necessary to achieve the best result. Since we didn't find any particular strong correlations between our features, we can instead use a common approach to reduce the number of features called <strong>principal component analysis (PCA)</strong>. </p>\n",
        "<p>It is possible that the variance between genres can be explained by just a few features in the dataset. PCA rotates the data along the axis of highest variance, thus allowing us to determine the relative contribution of each feature of our data towards the variance between classes. </p>\n",
        "<p>However, since PCA uses the absolute variance of a feature to rotate the data, a feature with a broader range of values will overpower and bias the algorithm relative to the other features. To avoid this, we must first normalize our data. There are a few methods to do this, but a common way is through <em>standardization</em>, such that all features have a mean = 0 and standard deviation = 1 (the resultant is a z-score).</p>"
      ],
      "metadata": {
        "dc": {
          "key": "17"
        },
        "deletable": false,
        "editable": false,
        "run_control": {
          "frozen": true
        },
        "tags": [
          "context"
        ]
      }
    },
    {
      "cell_type": "code",
      "source": [
        "# Define our features \n",
        "features = ...\n",
        "\n",
        "# Define our labels\n",
        "labels = ...\n",
        "\n",
        "# Import the StandardScaler\n",
        "...\n",
        "\n",
        "# Scale the features and set the values to a new variable\n",
        "scaler = ...\n",
        "scaled_train_features = ..."
      ],
      "outputs": [],
      "execution_count": null,
      "metadata": {
        "dc": {
          "key": "17"
        },
        "tags": [
          "sample_code"
        ]
      }
    },
    {
      "cell_type": "markdown",
      "source": [
        "## 4. Principal Component Analysis on our scaled data\n",
        "<p>Now that we have preprocessed our data, we are ready to use PCA to determine by how much we can reduce the dimensionality of our data. We can use <strong>scree-plots</strong> and <strong>cumulative explained ratio plots</strong> to find the number of components to use in further analyses.</p>\n",
        "<p>Scree-plots display the number of components against the variance explained by each component, sorted in descending order of variance. Scree-plots help us get a better sense of which components explain a sufficient amount of variance in our data. When using scree plots, an 'elbow' (a steep drop from one data point to the next) in the plot is typically used to decide on an appropriate cutoff.</p>"
      ],
      "metadata": {
        "dc": {
          "key": "24"
        },
        "deletable": false,
        "editable": false,
        "run_control": {
          "frozen": true
        },
        "tags": [
          "context"
        ]
      }
    },
    {
      "cell_type": "code",
      "source": [
        "# This is just to make plots appear in the notebook\n",
        "%matplotlib inline\n",
        "\n",
        "# Import our plotting module, and PCA class\n",
        "#... YOUR CODE ...\n",
        "\n",
        "# Get our explained variance ratios from PCA using all features\n",
        "pca = ...\n",
        "...\n",
        "exp_variance = ...\n",
        "\n",
        "# plot the explained variance using a barplot\n",
        "fig, ax = plt.subplots()\n",
        "ax.bar(..., ...)\n",
        "ax.plot(..., ..., marker='o', linewidth=3)\n",
        "ax.set_xlabel('Principal Component #')\n",
        "ax.set_ylabel('Eigenvalue')\n",
        "plt.grid(True)"
      ],
      "outputs": [],
      "execution_count": null,
      "metadata": {
        "dc": {
          "key": "24"
        },
        "tags": [
          "sample_code"
        ]
      }
    },
    {
      "cell_type": "markdown",
      "source": [
        "## 5. Further visualization of PCA\n",
        "<p>Unfortunately, there does not appear to be a clear elbow in this scree plot, which means it is not straightforward to find the number of intrinsic dimensions using this method. </p>\n",
        "<p>But all is not lost! Instead, we can also look at the <strong>cumulative explained variance plot</strong> to determine how many features are required to explain, say, about 85% of the variance (cutoffs are somewhat arbitrary here, and usually decided upon by 'rules of thumb'). Once we determine the appropriate number of components, we can perform PCA with that many components, ideally reducing the dimensionality of our data.</p>"
      ],
      "metadata": {
        "dc": {
          "key": "31"
        },
        "deletable": false,
        "editable": false,
        "run_control": {
          "frozen": true
        },
        "tags": [
          "context"
        ]
      }
    },
    {
      "cell_type": "code",
      "source": [
        "# Import numpy\n",
        "...\n",
        "\n",
        "# Calculate the cumulative explained variance\n",
        "cum_exp_variance = ...\n",
        "\n",
        "# Plot the cumulative explained variance and draw a dashed line at 0.85.\n",
        "fig, ax = plt.subplots()\n",
        "...\n",
        "ax.axhline(y=0.85, linestyle='--')\n",
        "\n",
        "# choose the n_components where about 85% of our variance can be explained\n",
        "n_components = ...\n",
        "\n",
        "# Perform PCA with the chosen number of components and project data onto components\n",
        "pca = PCA(n_components, random_state=1234)\n",
        "pca.fit(scaled_train_features)\n",
        "pca_projection = ..."
      ],
      "outputs": [],
      "execution_count": null,
      "metadata": {
        "dc": {
          "key": "31"
        },
        "tags": [
          "sample_code"
        ]
      }
    },
    {
      "cell_type": "markdown",
      "source": [
        "## 6. Train a decision tree to classify genre\n",
        "<p>Now we can use the lower dimensional PCA projection of the data to classify songs into genres. To do that, we first need to split our dataset into 'train' and 'test' subsets, where the 'train' subset will be used to train our model while the 'test' dataset allows for model performance validation.</p>\n",
        "<p>Here, we will be using a simple algorithm known as a decision tree. Decision trees are rule-based classifiers that take in features and follow a 'tree structure' of binary decisions to ultimately classify a data point into one of two or more categories. In addition to being easy to both use and interpret, decision trees allow us to visualize the 'logic flowchart' that the model generates from the training data.</p>"
      ],
      "metadata": {
        "dc": {
          "key": "38"
        },
        "deletable": false,
        "editable": false,
        "run_control": {
          "frozen": true
        },
        "tags": [
          "context"
        ]
      }
    },
    {
      "cell_type": "code",
      "source": [
        "# Import train_test_split function and Decision tree classifier\n",
        "# ... YOUR CODE ...\n",
        "\n",
        "# Split our data\n",
        "train_features, test_features, train_labels, test_labels = ...\n",
        "\n",
        "# Train our decision tree\n",
        "tree = ...\n",
        "...\n",
        "\n",
        "# Predict the labels for the test data\n",
        "pred_labels_tree = ..."
      ],
      "outputs": [],
      "execution_count": null,
      "metadata": {
        "dc": {
          "key": "38"
        },
        "tags": [
          "sample_code"
        ]
      }
    },
    {
      "cell_type": "markdown",
      "source": [
        "## 7. Compare our decision tree to a logistic regression\n",
        "<p>Although our tree's performance is decent, it's a bad idea to immediately assume that it's therefore the perfect tool for this job -- there's always the possibility of other models that will perform even better! It's always a worthwhile idea to at least test a few other algorithms and find the one that's best for our data.</p>\n",
        "<p>Sometimes simplest is best, and so we will start by applying <strong>logistic regression</strong>. Logistic regression makes use of what's called the logistic function to calculate the odds that a given data point belongs to a given class. Once we have both models, we can compare them on a few performance metrics, such as false positive and false negative rate (or how many points are inaccurately classified). </p>"
      ],
      "metadata": {
        "dc": {
          "key": "45"
        },
        "deletable": false,
        "editable": false,
        "run_control": {
          "frozen": true
        },
        "tags": [
          "context"
        ]
      }
    },
    {
      "cell_type": "code",
      "source": [
        "# Import LogisticRegression\n",
        "from sklearn.linear_model import LogisticRegression\n",
        "\n",
        "# Train our logistic regression and predict labels for the test set\n",
        "logreg = ...\n",
        "...\n",
        "pred_labels_logit = ...\n",
        "\n",
        "# Create the classification report for both models\n",
        "from sklearn.metrics import classification_report\n",
        "class_rep_tree = ...\n",
        "class_rep_log = ...\n",
        "\n",
        "print(\"Decision Tree: \\n\", class_rep_tree)\n",
        "print(\"Logistic Regression: \\n\", class_rep_log)"
      ],
      "outputs": [],
      "execution_count": null,
      "metadata": {
        "dc": {
          "key": "45"
        },
        "tags": [
          "sample_code"
        ]
      }
    },
    {
      "cell_type": "markdown",
      "source": [
        "## 8. Balance our data for greater performance\n",
        "<p>Both our models do similarly well, boasting an average precision of 87% each. However, looking at our classification report, we can see that rock songs are fairly well classified, but hip-hop songs are disproportionately misclassified as rock songs. </p>\n",
        "<p>Why might this be the case? Well, just by looking at the number of data points we have for each class, we see that we have far more data points for the rock classification than for hip-hop, potentially skewing our model's ability to distinguish between classes. This also tells us that most of our model's accuracy is driven by its ability to classify just rock songs, which is less than ideal.</p>\n",
        "<p>To account for this, we can weight the value of a correct classification in each class inversely to the occurrence of data points for each class. Since a correct classification for \"Rock\" is not more important than a correct classification for \"Hip-Hop\" (and vice versa), we only need to account for differences in <em>sample size</em> of our data points when weighting our classes here, and not relative importance of each class. </p>"
      ],
      "metadata": {
        "dc": {
          "key": "52"
        },
        "deletable": false,
        "editable": false,
        "run_control": {
          "frozen": true
        },
        "tags": [
          "context"
        ]
      }
    },
    {
      "cell_type": "code",
      "source": [
        "# Subset only the hip-hop tracks, and then only the rock tracks\n",
        "hop_only = ...\n",
        "rock_only = ...\n",
        "\n",
        "# sample the rocks songs to be the same number as there are hip-hop songs\n",
        "rock_only = ...\n",
        "\n",
        "# concatenate the dataframes rock_only and hop_only\n",
        "rock_hop_bal = ...\n",
        "\n",
        "# The features, labels, and pca projection are created for the balanced dataframe\n",
        "features = rock_hop_bal.drop(['genre_top', 'track_id'], axis=1) \n",
        "labels = rock_hop_bal['genre_top']\n",
        "pca_projection = pca.fit_transform(scaler.fit_transform(features))\n",
        "\n",
        "# Redefine the train and test set with the pca_projection from the balanced data\n",
        "train_features, test_features, train_labels, test_labels = train_test_split(..., random_state=1234)"
      ],
      "outputs": [],
      "execution_count": null,
      "metadata": {
        "dc": {
          "key": "52"
        },
        "tags": [
          "sample_code"
        ]
      }
    },
    {
      "cell_type": "markdown",
      "source": [
        "## 9. Does balancing our dataset improve model bias?\n",
        "<p>We've now balanced our dataset, but in doing so, we've removed a lot of data points that might have been crucial to training our models. Let's test to see if balancing our data improves model bias towards the \"Rock\" classification while retaining overall classification performance. </p>\n",
        "<p>Note that we have already reduced the size of our dataset and will go forward without applying any dimensionality reduction. In practice, we would consider dimensionality reduction more rigorously when dealing with vastly large datasets and when computation times become prohibitively large.</p>"
      ],
      "metadata": {
        "dc": {
          "key": "59"
        },
        "deletable": false,
        "editable": false,
        "run_control": {
          "frozen": true
        },
        "tags": [
          "context"
        ]
      }
    },
    {
      "cell_type": "code",
      "source": [
        "# Train our decision tree on the balanced data\n",
        "tree = ...\n",
        "...\n",
        "pred_labels_tree = ...\n",
        "\n",
        "# Train our logistic regression on the balanced data\n",
        "logreg = ...\n",
        "...\n",
        "pred_labels_logit = ...\n",
        "\n",
        "# Compare the models\n",
        "print(\"Decision Tree: \\n\", classification_report(...))\n",
        "print(\"Logistic Regression: \\n\", classification_report(...))"
      ],
      "outputs": [],
      "execution_count": null,
      "metadata": {
        "dc": {
          "key": "59"
        },
        "tags": [
          "sample_code"
        ]
      }
    },
    {
      "cell_type": "markdown",
      "source": [
        "## 10. Using cross-validation to evaluate our models\n",
        "<p>Success! Balancing our data has removed bias towards the more prevalent class. To get a good sense of how well our models are actually performing, we can apply what's called <strong>cross-validation</strong> (CV). This step allows us to compare models in a more rigorous fashion.</p>\n",
        "<p>Since the way our data is split into train and test sets can impact model performance, CV attempts to split the data multiple ways and test the model on each of the splits. Although there are many different CV methods, all with their own advantages and disadvantages, we will use what's known as <strong>K-fold</strong> CV here. K-fold first splits the data into K different, equally sized subsets. Then, it iteratively uses each subset as a test set while using the remainder of the data as train sets. Finally, we can then aggregate the results from each fold for a final model performance score.</p>"
      ],
      "metadata": {
        "dc": {
          "key": "66"
        },
        "deletable": false,
        "editable": false,
        "run_control": {
          "frozen": true
        },
        "tags": [
          "context"
        ]
      }
    },
    {
      "cell_type": "code",
      "source": [
        "from sklearn.model_selection import KFold, cross_val_score\n",
        "\n",
        "# Set up our K-fold cross-validation\n",
        "kf = ...\n",
        "\n",
        "tree = DecisionTreeClassifier(random_state=1234)\n",
        "logreg = LogisticRegression(random_state=1234)\n",
        "\n",
        "# Train our models using KFold cv\n",
        "tree_score = ...\n",
        "logit_score = ...\n",
        "\n",
        "# Print the mean of each array of scores\n",
        "print(\"Decision Tree:\", ..., \"Logistic Regression:\", ...)"
      ],
      "outputs": [],
      "execution_count": null,
      "metadata": {
        "dc": {
          "key": "66"
        },
        "tags": [
          "sample_code"
        ]
      }
    },
    {
      "cell_type": "markdown",
      "source": [
        "## 11. Hyperparameter Tuning\n",
        "<p><strong>AzureML ahead...</strong> This step requires you to import this notebook into your AzureML Workspace and use an existing AzureML Compute Cluster</p>\n",
        "<p>Now let's find the best hyperparameters for the algorithms we've evaluated in the previous step using <strong>AzureML Hyperdrive</strong>.</p>\n",
        "<p>Connect to your AzureML workspace and setup the compute environment for Hyperdrive to run</p>\n"
      ],
      "metadata": {}
    },
    {
      "cell_type": "code",
      "source": [
        "from azureml.core import Workspace, Experiment\n",
        "from azureml.core.compute import ComputeTarget, AmlCompute\n",
        "from azureml.core.compute_target import ComputeTargetException\n",
        "from azureml.core import Dataset, Datastore\n",
        "\n",
        "ws = Workspace.from_config()\n",
        "exp = Experiment(workspace=ws, name=\"song-classification-exp\")\n",
        "\n",
        "print('Workspace name: ' + ws.name, 'SubscriptionID: ' + ws.subscription_id, 'Resource Group: ' + ws.resource_group, sep = '\\n')\n",
        "\n",
        "cluster_name = \"ml-d2v2-cluster\"\n",
        "\n",
        "try:\n",
        "    compute_target = ComputeTarget(workspace=ws, name=cluster_name)\n",
        "    print('Found existing compute target')\n",
        "except ComputeTargetException:\n",
        "    print('Creating a new compute target...')\n",
        "    compute_config = AmlCompute.provisioning_configuration(vm_size='STANDARD_D2_V2', \n",
        "                                                           max_nodes=4)\n",
        "    compute_target = ComputeTarget.create(ws, cluster_name, compute_config)\n",
        "\n",
        "compute_target.wait_for_completion(show_output=True)\n",
        "\n",
        "run = exp.start_logging()\n",
        "\n",
        "# create tabular dataset from a single file in datastore\n",
        "datastore = Datastore.get(ws, 'workspaceblobstore')\n",
        "song_balanced_dataset = Dataset.Tabular.register_pandas_dataframe(dataframe=rock_hop_bal, target=datastore, name='song-classification-balanced', show_progress=True)\n",
        "song_balanced_dataset"
      ],
      "outputs": [],
      "execution_count": null,
      "metadata": {}
    },
    {
      "cell_type": "markdown",
      "source": [
        "## Decision Tree hyperparameter tuning\n",
        "<p>The following cell shows how to setup a training/evaluation run based on the particular set of hyperparameter values that are selected</p>\n",
        "<p>The balanced dataset and the hyperparameter values are passed as arguments to the script</p>"
      ],
      "metadata": {
        "nteract": {
          "transient": {
            "deleting": false
          }
        }
      }
    },
    {
      "cell_type": "code",
      "source": [
        "%%writefile ./run_decision_tree.py\n",
        "\n",
        "import argparse\n",
        "import os\n",
        "\n",
        "# importing necessary libraries\n",
        "import numpy as np\n",
        "\n",
        "from sklearn.metrics import confusion_matrix\n",
        "from sklearn.model_selection import train_test_split\n",
        "from sklearn.tree import DecisionTreeClassifier\n",
        "from sklearn.metrics import accuracy_score\n",
        "from sklearn.decomposition import PCA\n",
        "from sklearn.preprocessing import StandardScaler\n",
        "\n",
        "import joblib\n",
        "from azureml.core import Dataset, Run\n",
        "from azureml.core import Workspace, Experiment\n",
        "\n",
        "run = Run.get_context()\n",
        "workspace = run.experiment.workspace\n",
        "\n",
        "def main():\n",
        "    parser = argparse.ArgumentParser()\n",
        "    parser.add_argument('--dataset_name', type=str, help='Name of registered AzureML dataset')\n",
        "    parser.add_argument('--criterion', type=str, default='gini',\n",
        "                        help='DecisionTreeClassifier parameter for criterion')\n",
        "    parser.add_argument('--min_samples_leaf', type=int, default=10,\n",
        "                        help='DecisionTreeClassifier parameter for min_samples_leaf')\n",
        "    parser.add_argument('--max_depth', type=int, default=3,\n",
        "                        help='DecisionTreeClassifier parameter for max_depth')\n",
        "\n",
        "    args = parser.parse_args()\n",
        "    run.log('criterion', np.str(args.criterion))\n",
        "    run.log('min_samples_leaf', np.int(args.min_samples_leaf))\n",
        "    run.log('max_depth', np.int(args.max_depth))\n",
        "\n",
        "    # Load train_features, train_labels, test_features, test_labels\n",
        "    song_ds = Dataset.get_by_name(workspace=workspace, name=args.dataset_name)\n",
        "    song_df = song_ds.to_pandas_dataframe()\n",
        "\n",
        "    features = song_df.drop(['genre_top', 'track_id'], axis=1)\n",
        "    labels = song_df['genre_top']\n",
        "    \n",
        "    pca = PCA()\n",
        "    scaler = StandardScaler()\n",
        "    pca_projection = pca.fit_transform(scaler.fit_transform(features))\n",
        "\n",
        "    # Redefine the train and test set with the pca_projection from the balanced data\n",
        "    train_features, test_features, train_labels, test_labels = train_test_split(pca_projection, labels, random_state=1234)\n",
        "\n",
        "\n",
        "    # Train a Decision Tree Classifier\n",
        "    tree = DecisionTreeClassifier(min_samples_leaf=args.min_samples_leaf, max_depth=args.max_depth, criterion=args.criterion)\n",
        "    tree.fit(train_features, train_labels)\n",
        "    pred_labels_tree = tree.predict(test_features)\n",
        "\n",
        "    # model accuracy for X_test\n",
        "    accuracy = accuracy_score(test_labels, pred_labels_tree)\n",
        "    print('Accuracy of Decision Tree classifier on test set: {:.2f}'.format(accuracy))\n",
        "    run.log('Accuracy', np.float(accuracy))\n",
        "    \n",
        "    # creating a confusion matrix\n",
        "    cm = confusion_matrix(test_labels, pred_labels_tree)\n",
        "    print(cm)\n",
        "\n",
        "    os.makedirs('outputs', exist_ok=True)\n",
        "    # files saved in the \"outputs\" folder are automatically uploaded into run history\n",
        "    joblib.dump(tree, 'outputs/tree_model.joblib')\n",
        "\n",
        "\n",
        "if __name__ == '__main__':\n",
        "    main()"
      ],
      "outputs": [],
      "execution_count": null,
      "metadata": {
        "jupyter": {
          "source_hidden": false,
          "outputs_hidden": false
        },
        "nteract": {
          "transient": {
            "deleting": false
          }
        }
      }
    },
    {
      "cell_type": "markdown",
      "source": [
        "**Configure the RandomParameterSampling ranges for the DecisionTreeClassifier hyperparameter and run the experiment**\n",
        "- max_depth : Choice from 2 to 20\n",
        "- min_samples_leaf : Choice from 5 to 100\n",
        "- criterion : Choice of \"gini\" or \"entropy\""
      ],
      "metadata": {
        "nteract": {
          "transient": {
            "deleting": false
          }
        }
      }
    },
    {
      "cell_type": "code",
      "source": [
        "import azureml.core\n",
        "from azureml.core import Environment, ScriptRunConfig\n",
        "from azureml.train.estimator import Estimator\n",
        "from azureml.widgets import RunDetails\n",
        "from azureml.train.hyperdrive import (\n",
        "    RandomParameterSampling,\n",
        "    BanditPolicy,\n",
        "    HyperDriveConfig,\n",
        "    quniform,\n",
        "    uniform,\n",
        "    choice,\n",
        "    PrimaryMetricGoal,\n",
        ")\n",
        "\n",
        "src = ScriptRunConfig(source_directory='./',\n",
        "                      script='run_decision_tree.py',\n",
        "                      arguments=['--dataset_name', song_balanced_dataset.name],\n",
        "                      compute_target=compute_target,\n",
        "                      environment=Environment.get(ws, name='AzureML-sklearn-0.24-ubuntu18.04-py37-cpu'))\n",
        "\n",
        "\n",
        "# TODO: Setup a RandomParameterSampling hyperparameter space for the following:\n",
        "ps = RandomParameterSampling(\n",
        "    {\n",
        "        \"--max_depth\": ...,\n",
        "        \"--min_samples_leaf\": ...,\n",
        "        \"--criterion\": ...,\n",
        "    }\n",
        ")\n",
        "\n",
        "early_termination_policy = BanditPolicy(evaluation_interval=2, slack_factor=0.1)\n",
        "\n",
        "# HyperDrive job configuration\n",
        "htc = HyperDriveConfig(\n",
        "    run_config = src,\n",
        "    hyperparameter_sampling=ps,\n",
        "    primary_metric_name=\"Accuracy\",\n",
        "    primary_metric_goal=PrimaryMetricGoal.MAXIMIZE,\n",
        "    max_total_runs= len(ps._parameter_space) * 20,\n",
        "    max_concurrent_runs=4,\n",
        ")\n",
        "\n",
        "htr = exp.submit(config=htc)\n",
        "RunDetails(htr).show()"
      ],
      "outputs": [],
      "execution_count": null,
      "metadata": {
        "jupyter": {
          "source_hidden": false,
          "outputs_hidden": false
        },
        "nteract": {
          "transient": {
            "deleting": false
          }
        }
      }
    },
    {
      "cell_type": "markdown",
      "source": [
        "## 12. Find and Register the Best Model"
      ],
      "metadata": {
        "nteract": {
          "transient": {
            "deleting": false
          }
        }
      }
    },
    {
      "cell_type": "code",
      "source": [
        "best_run = htr.get_best_run_by_primary_metric()\n",
        "best_run_metrics = ...\n",
        "parameter_values = best_run.get_details()['runDefinition']['arguments']\n",
        "\n",
        "print('Best Run Id: ', best_run.id)\n",
        "print('Best Run Parameters: ', parameter_values)\n",
        "print('\\n Accuracy:', ...)\n",
        "\n",
        "model = best_run.register_model(model_name='song-classifier-tree-model', model_path='outputs/tree_model.joblib')"
      ],
      "outputs": [],
      "execution_count": null,
      "metadata": {
        "jupyter": {
          "source_hidden": false,
          "outputs_hidden": false
        },
        "nteract": {
          "transient": {
            "deleting": false
          }
        }
      }
    },
    {
      "cell_type": "markdown",
      "source": [
        "## 13. Create a Hyperparameter Tuning Script for Logistic Regression\n",
        "Using the Hyperparamter tuning script for the Decision Tree Classifier, implement a similar script for Logistic Regression"
      ],
      "metadata": {
        "nteract": {
          "transient": {
            "deleting": false
          }
        }
      }
    },
    {
      "cell_type": "code",
      "source": [
        "%%writefile ./run_logistic_regression.py\n",
        "import argparse\n",
        "import os\n",
        "\n",
        "# importing necessary libraries\n",
        "import numpy as np\n",
        "\n",
        "from sklearn.metrics import confusion_matrix\n",
        "from sklearn.model_selection import train_test_split\n",
        "from sklearn.linear_model import LogisticRegression\n",
        "from sklearn.metrics import accuracy_score\n",
        "from sklearn.decomposition import PCA\n",
        "from sklearn.preprocessing import StandardScaler\n",
        "\n",
        "import joblib\n",
        "from azureml.core import Dataset, Run\n",
        "from azureml.core import Workspace, Experiment\n",
        "\n",
        "run = Run.get_context()\n",
        "workspace = run.experiment.workspace\n",
        "\n",
        "def main():\n",
        "    ...\n",
        "    ...\n",
        "\n",
        "    os.makedirs('outputs', exist_ok=True)\n",
        "    # files saved in the \"outputs\" folder are automatically uploaded into run history\n",
        "    joblib.dump(tree, ''outputs/tree_model.joblib'')\n",
        "\n",
        "\n",
        "if __name__ == '__main__':\n",
        "    main()"
      ],
      "outputs": [],
      "execution_count": null,
      "metadata": {
        "jupyter": {
          "source_hidden": false,
          "outputs_hidden": false
        },
        "nteract": {
          "transient": {
            "deleting": false
          }
        }
      }
    },
    {
      "cell_type": "code",
      "source": [
        "import azureml.core\n",
        "from azureml.core import Environment, ScriptRunConfig\n",
        "from azureml.train.estimator import Estimator\n",
        "from azureml.widgets import RunDetails\n",
        "from azureml.train.hyperdrive import (\n",
        "    RandomParameterSampling,\n",
        "    BanditPolicy,\n",
        "    HyperDriveConfig,\n",
        "    quniform,\n",
        "    uniform,\n",
        "    choice,\n",
        "    PrimaryMetricGoal,\n",
        ")\n",
        "\n",
        "src = ScriptRunConfig(source_directory='./',\n",
        "                      script='run_logistic_regression.py',\n",
        "                      arguments=['--dataset_name', song_balanced_dataset.name],\n",
        "                      compute_target=compute_target,\n",
        "                      environment=Environment.get(ws, name='AzureML-sklearn-0.24-ubuntu18.04-py37-cpu'))\n",
        "\n",
        "\n",
        "# TODO: Setup a RandomParameterSampling hyperparameter space for the following:\n",
        "ps = RandomParameterSampling(\n",
        "    {\n",
        "...\n",
        "    }\n",
        ")\n",
        "\n",
        "early_termination_policy = BanditPolicy(evaluation_interval=2, slack_factor=0.1)\n",
        "\n",
        "# HyperDrive job configuration\n",
        "htc = HyperDriveConfig(\n",
        "    run_config = src,\n",
        "    hyperparameter_sampling=ps,\n",
        "    primary_metric_name=\"Accuracy\",\n",
        "    primary_metric_goal=PrimaryMetricGoal.MAXIMIZE,\n",
        "    max_total_runs= len(ps._parameter_space) * 20,\n",
        "    max_concurrent_runs=4,\n",
        ")\n",
        "\n",
        "htr = exp.submit(config=htc)\n",
        "RunDetails(htr).show()"
      ],
      "outputs": [],
      "execution_count": null,
      "metadata": {
        "jupyter": {
          "source_hidden": false,
          "outputs_hidden": false
        },
        "nteract": {
          "transient": {
            "deleting": false
          }
        }
      }
    },
    {
      "cell_type": "code",
      "source": [
        "best_run = htr.get_best_run_by_primary_metric()\n",
        "best_run_metrics = ...\n",
        "parameter_values = best_run.get_details()['runDefinition']['arguments']\n",
        "\n",
        "print('Best Run Id: ', best_run.id)\n",
        "print('Best Run Parameters: ', parameter_values)\n",
        "print('\\n Accuracy:', ...)\n",
        "\n",
        "model = best_run.register_model(model_name='song-classifier-logisticregression-model', model_path='outputs/tree_model.joblib')"
      ],
      "outputs": [],
      "execution_count": null,
      "metadata": {
        "jupyter": {
          "source_hidden": false,
          "outputs_hidden": false
        },
        "nteract": {
          "transient": {
            "deleting": false
          }
        }
      }
    }
  ],
  "metadata": {
    "kernelspec": {
      "name": "python3",
      "language": "python",
      "display_name": "Python 3"
    },
    "language_info": {
      "name": "python",
      "version": "3.6.9",
      "mimetype": "text/x-python",
      "codemirror_mode": {
        "name": "ipython",
        "version": 3
      },
      "pygments_lexer": "ipython3",
      "nbconvert_exporter": "python",
      "file_extension": ".py"
    },
    "kernel_info": {
      "name": "python3"
    },
    "nteract": {
      "version": "nteract-front-end@1.0.0"
    }
  },
  "nbformat": 4,
  "nbformat_minor": 0
}